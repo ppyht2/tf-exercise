{
 "cells": [
  {
   "cell_type": "code",
   "execution_count": 4,
   "metadata": {
    "collapsed": true
   },
   "outputs": [],
   "source": [
    "import tensorflow as tf\n",
    "from tensorflow.contrib.layers import fully_connected\n",
    "from tensorflow.examples.tutorials.mnist import input_data\n",
    "\n",
    "import matplotlib.pyplot as plt \n",
    "\n",
    "% matplotlib inline"
   ]
  },
  {
   "cell_type": "code",
   "execution_count": 21,
   "metadata": {
    "collapsed": false
   },
   "outputs": [
    {
     "name": "stdout",
     "output_type": "stream",
     "text": [
      "Extracting tmp/mnist/train-images-idx3-ubyte.gz\n",
      "Extracting tmp/mnist/train-labels-idx1-ubyte.gz\n",
      "Extracting tmp/mnist/t10k-images-idx3-ubyte.gz\n",
      "Extracting tmp/mnist/t10k-labels-idx1-ubyte.gz\n"
     ]
    }
   ],
   "source": [
    "mnist = input_data.read_data_sets(\"tmp/mnist\")"
   ]
  },
  {
   "cell_type": "markdown",
   "metadata": {},
   "source": [
    "# Model"
   ]
  },
  {
   "cell_type": "code",
   "execution_count": 22,
   "metadata": {
    "collapsed": true
   },
   "outputs": [],
   "source": [
    "n_steps = 28\n",
    "n_inputs = 28\n",
    "\n",
    "n_neurons = 150\n",
    "n_outputs = 10\n",
    "\n",
    "learning_rate = 1e-4"
   ]
  },
  {
   "cell_type": "markdown",
   "metadata": {},
   "source": [
    "# Graph"
   ]
  },
  {
   "cell_type": "code",
   "execution_count": 23,
   "metadata": {
    "collapsed": false
   },
   "outputs": [],
   "source": [
    "tf.reset_default_graph()\n",
    "\n",
    "# inputs and labels\n",
    "x = tf.placeholder(tf.float32, [None, n_steps, n_inputs])\n",
    "y = tf.placeholder(tf.int32, [None])\n",
    "\n",
    "basic_cell = tf.contrib.rnn.BasicRNNCell(num_units = n_neurons)\n",
    "outputs, states = tf.nn.dynamic_rnn(basic_cell, x, dtype=tf.float32)\n",
    "logits = fully_connected(inputs=states, num_outputs=n_outputs, activation_fn=None)\n",
    "\n",
    "xentropy = tf.nn.sparse_softmax_cross_entropy_with_logits(labels=y, logits=logits)\n",
    "loss = tf.reduce_mean(xentropy)\n",
    "\n",
    "optimiser = tf.train.AdamOptimizer(learning_rate)\n",
    "training_op = optimiser.minimize(loss)\n",
    "\n",
    "correct = tf.nn.in_top_k(logits, y, 1)\n",
    "accuracy = tf.reduce_mean(tf.cast(correct, tf.float32))\n",
    "\n",
    "init_op = tf.global_variables_initializer()\n"
   ]
  },
  {
   "cell_type": "markdown",
   "metadata": {},
   "source": [
    "# Session"
   ]
  },
  {
   "cell_type": "code",
   "execution_count": 35,
   "metadata": {
    "collapsed": false
   },
   "outputs": [
    {
     "name": "stdout",
     "output_type": "stream",
     "text": [
      "0 Training Accuracy: 0.858333\n",
      "1 Training Accuracy: 0.85\n",
      "2 Training Accuracy: 0.891667\n",
      "3 Training Accuracy: 0.916667\n",
      "4 Training Accuracy: 0.875\n",
      "5 Training Accuracy: 0.958333\n",
      "6 Training Accuracy: 0.958333\n",
      "7 Training Accuracy: 0.95\n",
      "8 Training Accuracy: 0.958333\n",
      "9 Training Accuracy: 0.975\n",
      "10 Training Accuracy: 0.933333\n",
      "11 Training Accuracy: 0.966667\n",
      "12 Training Accuracy: 0.958333\n",
      "13 Training Accuracy: 0.975\n",
      "14 Training Accuracy: 0.958333\n",
      "15 Training Accuracy: 0.95\n",
      "16 Training Accuracy: 0.975\n",
      "17 Training Accuracy: 0.991667\n",
      "18 Training Accuracy: 0.975\n",
      "19 Training Accuracy: 0.975\n",
      "20 Training Accuracy: 0.958333\n",
      "21 Training Accuracy: 0.95\n",
      "22 Training Accuracy: 0.991667\n",
      "23 Training Accuracy: 0.983333\n",
      "24 Training Accuracy: 0.966667\n",
      "25 Training Accuracy: 1.0\n",
      "26 Training Accuracy: 0.958333\n",
      "27 Training Accuracy: 0.991667\n",
      "28 Training Accuracy: 0.991667\n",
      "29 Training Accuracy: 0.991667\n",
      "30 Training Accuracy: 1.0\n",
      "31 Training Accuracy: 0.991667\n",
      "32 Training Accuracy: 0.966667\n",
      "33 Training Accuracy: 0.975\n",
      "34 Training Accuracy: 0.966667\n",
      "35 Training Accuracy: 0.991667\n",
      "36 Training Accuracy: 0.975\n",
      "37 Training Accuracy: 0.991667\n",
      "38 Training Accuracy: 0.966667\n",
      "39 Training Accuracy: 0.983333\n",
      "40 Training Accuracy: 0.983333\n",
      "41 Training Accuracy: 0.983333\n",
      "42 Training Accuracy: 0.983333\n",
      "43 Training Accuracy: 0.966667\n",
      "44 Training Accuracy: 1.0\n",
      "45 Training Accuracy: 0.975\n",
      "46 Training Accuracy: 0.983333\n",
      "47 Training Accuracy: 0.983333\n",
      "48 Training Accuracy: 0.991667\n",
      "49 Training Accuracy: 0.983333\n",
      "50 Training Accuracy: 0.983333\n",
      "51 Training Accuracy: 0.991667\n",
      "52 Training Accuracy: 0.991667\n",
      "53 Training Accuracy: 0.983333\n",
      "54 Training Accuracy: 1.0\n",
      "55 Training Accuracy: 0.991667\n",
      "56 Training Accuracy: 0.991667\n",
      "57 Training Accuracy: 0.95\n",
      "58 Training Accuracy: 1.0\n",
      "59 Training Accuracy: 0.991667\n",
      "60 Training Accuracy: 1.0\n",
      "61 Training Accuracy: 1.0\n",
      "62 Training Accuracy: 0.991667\n",
      "63 Training Accuracy: 0.983333\n",
      "64 Training Accuracy: 0.975\n",
      "65 Training Accuracy: 1.0\n",
      "66 Training Accuracy: 0.991667\n",
      "67 Training Accuracy: 0.983333\n",
      "68 Training Accuracy: 1.0\n",
      "69 Training Accuracy: 0.991667\n",
      "70 Training Accuracy: 0.983333\n",
      "71 Training Accuracy: 1.0\n",
      "72 Training Accuracy: 1.0\n",
      "73 Training Accuracy: 1.0\n",
      "74 Training Accuracy: 1.0\n",
      "75 Training Accuracy: 1.0\n",
      "76 Training Accuracy: 1.0\n",
      "77 Training Accuracy: 0.975\n",
      "78 Training Accuracy: 0.991667\n",
      "79 Training Accuracy: 0.991667\n",
      "80 Training Accuracy: 1.0\n",
      "81 Training Accuracy: 0.991667\n",
      "82 Training Accuracy: 1.0\n",
      "83 Training Accuracy: 0.991667\n",
      "84 Training Accuracy: 0.991667\n",
      "85 Training Accuracy: 1.0\n",
      "86 Training Accuracy: 1.0\n",
      "87 Training Accuracy: 1.0\n",
      "88 Training Accuracy: 1.0\n",
      "89 Training Accuracy: 1.0\n",
      "90 Training Accuracy: 1.0\n",
      "91 Training Accuracy: 1.0\n",
      "92 Training Accuracy: 0.991667\n",
      "93 Training Accuracy: 1.0\n",
      "94 Training Accuracy: 1.0\n",
      "95 Training Accuracy: 1.0\n",
      "96 Training Accuracy: 0.966667\n",
      "97 Training Accuracy: 1.0\n",
      "98 Training Accuracy: 1.0\n",
      "99 Training Accuracy: 1.0\n",
      "Test Accuracy: 0.978\n"
     ]
    }
   ],
   "source": [
    "n_epoch = 100\n",
    "epoch_size = 500\n",
    "batch_size = 120\n",
    "\n",
    "with tf.Session() as sess:\n",
    "    init_op.run()\n",
    "    \n",
    "    for epoch in range(n_epoch):\n",
    "        for it in range(epoch_size):\n",
    "            batch_x, batch_y = mnist.train.next_batch(batch_size)\n",
    "            batch_x = batch_x.reshape((-1, n_steps, n_inputs))\n",
    "        \n",
    "            sess.run(training_op, feed_dict={x:batch_x, y:batch_y})\n",
    "        \n",
    "        acc_train = accuracy.eval(feed_dict={x:batch_x, y:batch_y})\n",
    "        print(epoch, \"Training Accuracy:\", acc_train)\n",
    "        \n",
    "    x_test = mnist.test.images.reshape((-1, n_steps, n_inputs))\n",
    "    y_test = mnist.test.labels\n",
    "\n",
    "    acc_test = accuracy.eval(session=sess, feed_dict={x:x_test, y:y_test})\n",
    "    print(\"Test Accuracy:\", acc_test)\n",
    "                                   "
   ]
  },
  {
   "cell_type": "code",
   "execution_count": 36,
   "metadata": {
    "collapsed": false
   },
   "outputs": [
    {
     "data": {
      "text/plain": [
       "55000"
      ]
     },
     "execution_count": 36,
     "metadata": {},
     "output_type": "execute_result"
    }
   ],
   "source": [
    "mnist.train.num_examples"
   ]
  },
  {
   "cell_type": "code",
   "execution_count": null,
   "metadata": {
    "collapsed": true
   },
   "outputs": [],
   "source": []
  }
 ],
 "metadata": {
  "kernelspec": {
   "display_name": "Python 3",
   "language": "python",
   "name": "python3"
  },
  "language_info": {
   "codemirror_mode": {
    "name": "ipython",
    "version": 3
   },
   "file_extension": ".py",
   "mimetype": "text/x-python",
   "name": "python",
   "nbconvert_exporter": "python",
   "pygments_lexer": "ipython3",
   "version": "3.5.2"
  }
 },
 "nbformat": 4,
 "nbformat_minor": 2
}
