{
 "cells": [
  {
   "cell_type": "markdown",
   "metadata": {
    "deletable": true,
    "editable": true
   },
   "source": [
    "### Loading Libraries "
   ]
  },
  {
   "cell_type": "code",
   "execution_count": 1,
   "metadata": {
    "collapsed": false,
    "deletable": true,
    "editable": true
   },
   "outputs": [],
   "source": [
    "import os \n",
    "import numpy as np \n",
    "import matplotlib.pyplot as plt \n",
    "import tensorflow as tf\n",
    "import gif\n",
    "import IPython.display as ipyd\n",
    "from scipy.misc import imresize\n",
    "#.misc import imresize\n",
    "# Unable to install scipy yet\n",
    "\n",
    "% matplotlib inline\n",
    "plt.style.use('ggplot')\n"
   ]
  },
  {
   "cell_type": "markdown",
   "metadata": {
    "deletable": true,
    "editable": true
   },
   "source": [
    "### Settings "
   ]
  },
  {
   "cell_type": "markdown",
   "metadata": {
    "deletable": true,
    "editable": true
   },
   "source": [
    "### Flatten Function"
   ]
  },
  {
   "cell_type": "code",
   "execution_count": 2,
   "metadata": {
    "collapsed": true,
    "deletable": true,
    "editable": true
   },
   "outputs": [],
   "source": [
    "def flatten(x, name=None, reuse=None):\n",
    "    \"\"\"Flatten Tensor to 2-dimensions.\n",
    "    Parameters\n",
    "    ----------\n",
    "    x : tf.Tensor\n",
    "        Input tensor to flatten.\n",
    "    name : None, optional\n",
    "        Variable scope for flatten operations\n",
    "    Returns\n",
    "    -------\n",
    "    flattened : tf.Tensor\n",
    "        Flattened tensor.\n",
    "    \"\"\"\n",
    "    with tf.variable_scope('flatten'):\n",
    "        dims = x.get_shape().as_list()\n",
    "        if len(dims) == 4:\n",
    "            flattened = tf.reshape(\n",
    "                x,\n",
    "                shape=[-1, dims[1] * dims[2] * dims[3]])\n",
    "        elif len(dims) == 2 or len(dims) == 1:\n",
    "            flattened = x\n",
    "        else:\n",
    "            raise ValueError('Expected n dimensions of 1, 2 or 4.  Found:',\n",
    "                             len(dims))\n",
    "\n",
    "        return flattened"
   ]
  },
  {
   "cell_type": "markdown",
   "metadata": {
    "deletable": true,
    "editable": true
   },
   "source": [
    "### Function for Image Splitting"
   ]
  },
  {
   "cell_type": "code",
   "execution_count": 3,
   "metadata": {
    "collapsed": true,
    "deletable": true,
    "editable": true
   },
   "outputs": [],
   "source": [
    "def split_image(img):\n",
    "    # We'll first collect all the positions in the image in our list, xs\n",
    "    xs = []\n",
    "\n",
    "    # And the corresponding colors for each of these positions\n",
    "    ys = []\n",
    "\n",
    "    # Now loop over the image\n",
    "    for row_i in range(img.shape[0]):\n",
    "        for col_i in range(img.shape[1]):\n",
    "            # And store the inputs\n",
    "            xs.append([row_i, col_i])\n",
    "            # And outputs that the network needs to learn to predict\n",
    "            ys.append(img[row_i, col_i])\n",
    "\n",
    "    # we'll convert our lists to arrays\n",
    "    xs = np.array(xs)\n",
    "    ys = np.array(ys)\n",
    "    return xs, ys"
   ]
  },
  {
   "cell_type": "markdown",
   "metadata": {
    "deletable": true,
    "editable": true
   },
   "source": [
    "### Function to Construct a Single Linear Fully Connected Layer"
   ]
  },
  {
   "cell_type": "code",
   "execution_count": 4,
   "metadata": {
    "collapsed": true,
    "deletable": true,
    "editable": true
   },
   "outputs": [],
   "source": [
    "def linear(x, n_output, name=None, activation=None, reuse=None):\n",
    "    \"\"\"Fully connected layer.\n",
    "    Parameters\n",
    "    ----------\n",
    "    x : tf.Tensor\n",
    "        Input tensor to connect\n",
    "    n_output : int\n",
    "        Number of output neurons\n",
    "    name : None, optional\n",
    "        Scope to apply\n",
    "    Returns\n",
    "    -------\n",
    "    op : tf.Tensor\n",
    "        Output of fully connected layer.\n",
    "    \"\"\"\n",
    "    if len(x.get_shape()) != 2:\n",
    "        x = flatten(x, reuse=reuse)\n",
    "\n",
    "    n_input = x.get_shape().as_list()[1]\n",
    "\n",
    "    with tf.variable_scope(name or \"fc\", reuse=reuse):\n",
    "        W = tf.get_variable(\n",
    "            name='W',\n",
    "            shape=[n_input, n_output],\n",
    "            dtype=tf.float32,\n",
    "            initializer=tf.contrib.layers.xavier_initializer())\n",
    "\n",
    "        b = tf.get_variable(\n",
    "            name='b',\n",
    "            shape=[n_output],\n",
    "            dtype=tf.float32,\n",
    "            initializer=tf.constant_initializer(0.0))\n",
    "\n",
    "        h = tf.nn.bias_add(\n",
    "            name='h',\n",
    "            value=tf.matmul(x, W),\n",
    "            bias=b)\n",
    "\n",
    "        if activation:\n",
    "            h = activation(h)\n",
    "\n",
    "        return h, W"
   ]
  },
  {
   "cell_type": "markdown",
   "metadata": {
    "deletable": true,
    "editable": true
   },
   "source": [
    "### Prepar the Data"
   ]
  },
  {
   "cell_type": "code",
   "execution_count": 5,
   "metadata": {
    "collapsed": false,
    "deletable": true,
    "editable": true
   },
   "outputs": [
    {
     "data": {
      "text/plain": [
       "<matplotlib.image.AxesImage at 0x7fb941a31710>"
      ]
     },
     "execution_count": 5,
     "metadata": {},
     "output_type": "execute_result"
    },
    {
     "data": {
      "image/png": "[encoded data removed]",
      "text/plain": [
       "<matplotlib.figure.Figure at 0x7fb948d0bfd0>"
      ]
     },
     "metadata": {},
     "output_type": "display_data"
    }
   ],
   "source": [
    "# Load the image \n",
    "img = plt.imread('emma.png')\n",
    "img = imresize(img,(100, 100))\n",
    "# Unable to install scipy\n",
    "\n",
    "# Split \n",
    "xs, ys = split_image(img)\n",
    "\n",
    "\n",
    "# Normalise \n",
    "xs = (xs - np.mean(xs, axis = 0)) / np.std(xs, axis =0)\n",
    "ys = ys / 255.0\n",
    "# ys is already normalised for some unknow reason\n",
    "\n",
    "\n",
    "plt.imshow(ys.reshape(img.shape))"
   ]
  },
  {
   "cell_type": "code",
   "execution_count": 12,
   "metadata": {
    "collapsed": true,
    "deletable": true,
    "editable": true
   },
   "outputs": [],
   "source": [
    "# Activation settign\n",
    "input_dimension = 2\n",
    "output_dimension = 3;\n",
    "no_neurons = 20;\n",
    "n_iterations = 100;\n",
    "batch_size = 100;\n",
    "learning_rate = 0.001"
   ]
  },
  {
   "cell_type": "markdown",
   "metadata": {
    "deletable": true,
    "editable": true
   },
   "source": [
    "### Reset Graph and Reload Data"
   ]
  },
  {
   "cell_type": "code",
   "execution_count": 13,
   "metadata": {
    "collapsed": true,
    "deletable": true,
    "editable": true
   },
   "outputs": [],
   "source": [
    "# Reset\n",
    "tf.reset_default_graph()\n",
    "\n",
    "# inputs \n",
    "X =tf.placeholder(tf.float32, shape = [None, 2], name = 'X')\n",
    "\n",
    "# outputs \n",
    "Y = tf.placeholder(tf.float32, shape = [None, 3], name = 'Y')"
   ]
  },
  {
   "cell_type": "markdown",
   "metadata": {
    "deletable": true,
    "editable": true
   },
   "source": [
    "### Constrcut the Network "
   ]
  },
  {
   "cell_type": "code",
   "execution_count": 14,
   "metadata": {
    "collapsed": false,
    "deletable": true,
    "editable": true
   },
   "outputs": [],
   "source": [
    "h1, W1 = linear(X, no_neurons, activation = tf.nn.relu, name = 'layer1')\n",
    "h2, W2 = linear(h1, no_neurons, activation = tf.nn.relu, name = 'layer2')\n",
    "h3, W3 = linear(h2, no_neurons, activation = tf.nn.relu, name = 'layer3')\n",
    "h4, W4 = linear(h3, no_neurons, activation = tf.nn.relu, name = 'layer4')\n",
    "h5, W5 = linear(h4, no_neurons, activation = tf.nn.relu, name = 'layer5')\n",
    "h6, W6 = linear(h5, no_neurons, activation = tf.nn.relu, name = 'layer6')\n",
    "Y_pred, W7 = linear(h6, output_dimension, activation = None, name = 'layer_o')"
   ]
  },
  {
   "cell_type": "markdown",
   "metadata": {
    "deletable": true,
    "editable": true
   },
   "source": [
    "### Define Error Function and Optimiser "
   ]
  },
  {
   "cell_type": "code",
   "execution_count": 15,
   "metadata": {
    "collapsed": false,
    "deletable": true,
    "editable": true
   },
   "outputs": [],
   "source": [
    "# Use l2 cost\n",
    "cost = tf.reduce_mean(tf.reduce_sum(tf.squared_difference(Y, Y_pred),1))\n",
    "# Adam optimiser \n",
    "optimiser = tf.train.AdamOptimizer(learning_rate).minimize(cost)"
   ]
  },
  {
   "cell_type": "markdown",
   "metadata": {
    "deletable": true,
    "editable": true
   },
   "source": [
    "### TensorBoard Logs\n"
   ]
  },
  {
   "cell_type": "raw",
   "metadata": {
    "deletable": true,
    "editable": true
   },
   "source": []
  },
  {
   "cell_type": "markdown",
   "metadata": {
    "deletable": true,
    "editable": true
   },
   "source": [
    "### Session "
   ]
  },
  {
   "cell_type": "code",
   "execution_count": 18,
   "metadata": {
    "collapsed": false,
    "deletable": true,
    "editable": true
   },
   "outputs": [
    {
     "name": "stdout",
     "output_type": "stream",
     "text": [
      "CPU times: user 42.1 s, sys: 2.88 s, total: 45 s\n",
      "Wall time: 29 s\n"
     ]
    }
   ],
   "source": [
    "%%time \n",
    "\n",
    "sess = tf.Session()\n",
    "\n",
    "## TF Board \n",
    "\n",
    "# Initialize all your variables and run the operation with your session\n",
    "sess.run(tf.global_variables_initializer())\n",
    "\n",
    "# Optimize over a few iterations, each time following the gradient\n",
    "# a little at a time\n",
    "imgs = []\n",
    "costs = []\n",
    "gif_step = n_iterations // 10\n",
    "step_i = 0\n",
    "\n",
    "# Saver\n",
    "saver = tf.train.Saver()\n",
    "#Writer\n",
    "writer = tf.summary.FileWriter(\"./tmp/logs/1\")\n",
    "writer.add_graph(sess.graph)\n",
    "\n",
    "for it_i in range(n_iterations):\n",
    "    \n",
    "    # Get a random sampling of the dataset\n",
    "    idxs = np.random.permutation(range(len(xs)))\n",
    "    \n",
    "    # The number of batches we have to iterate over\n",
    "    n_batches = len(idxs) // batch_size\n",
    "    \n",
    "    # Now iterate over our stochastic minibatches:\n",
    "    for batch_i in range(n_batches):\n",
    "         \n",
    "        # Get just minibatch amount of data\n",
    "        idxs_i = idxs[batch_i * batch_size: (batch_i + 1) * batch_size]\n",
    "\n",
    "        # And optimize, also returning the cost so we can monitor\n",
    "        # how our optimization is doing.\n",
    "        training_cost = sess.run(\n",
    "            [cost, optimiser],\n",
    "            feed_dict={X: xs[idxs_i], Y: ys[idxs_i]})[0]\n",
    "        \n",
    "        \n",
    "        '''\n",
    "\n",
    "    # Also, every 20 iterations, we'll draw the prediction of our\n",
    "    # input xs, which should try to recreate our image!\n",
    "    if (it_i + 1) % gif_step == 0:\n",
    "        costs.append(training_cost / n_batches)\n",
    "        ys_pred = Y_pred.eval(feed_dict={X: xs}, session=sess)\n",
    "        img = np.clip(ys_pred.reshape(img.shape), 0, 1)\n",
    "        imgs.append(img)\n",
    "        # Plot the cost over time\n",
    "        print('Cost: {}' .format(costs[-1]))\n",
    "\n",
    "        \n",
    "        fig, ax = plt.subplots(1, 2)\n",
    "        ax[0].plot(costs)\n",
    "        ax[0].set_xlabel('Iteration')\n",
    "        ax[0].set_ylabel('Cost')\n",
    "        ax[1].imshow(img)\n",
    "        fig.suptitle('Iteration {}'.format(it_i))\n",
    "        plt.show()\n",
    "        \n",
    "        '''"
   ]
  },
  {
   "cell_type": "code",
   "execution_count": 19,
   "metadata": {
    "collapsed": false,
    "deletable": true,
    "editable": true
   },
   "outputs": [
    {
     "ename": "IndexError",
     "evalue": "index 0 is out of bounds for axis 0 with size 0",
     "output_type": "error",
     "traceback": [
      "\u001b[0;31m---------------------------------------------------------------------------\u001b[0m",
      "\u001b[0;31mIndexError\u001b[0m                                Traceback (most recent call last)",
      "\u001b[0;32m<ipython-input-19-4b88870d8c68>\u001b[0m in \u001b[0;36m<module>\u001b[0;34m()\u001b[0m\n\u001b[1;32m      3\u001b[0m \u001b[0;31m# Save the images as a GIF\u001b[0m\u001b[0;34m\u001b[0m\u001b[0;34m\u001b[0m\u001b[0m\n\u001b[1;32m      4\u001b[0m \u001b[0mgif_name\u001b[0m \u001b[0;34m=\u001b[0m \u001b[0;34m\"nn\"\u001b[0m \u001b[0;34m+\u001b[0m \u001b[0mstr\u001b[0m\u001b[0;34m(\u001b[0m\u001b[0mno_neurons\u001b[0m\u001b[0;34m)\u001b[0m \u001b[0;34m+\u001b[0m \u001b[0;34m\"it\"\u001b[0m \u001b[0;34m+\u001b[0m \u001b[0mstr\u001b[0m\u001b[0;34m(\u001b[0m\u001b[0mn_iterations\u001b[0m\u001b[0;34m)\u001b[0m \u001b[0;34m+\u001b[0m \u001b[0;34m\".gif\"\u001b[0m\u001b[0;34m\u001b[0m\u001b[0m\n\u001b[0;32m----> 5\u001b[0;31m \u001b[0m_\u001b[0m \u001b[0;34m=\u001b[0m \u001b[0mgif\u001b[0m\u001b[0;34m.\u001b[0m\u001b[0mbuild_gif\u001b[0m\u001b[0;34m(\u001b[0m\u001b[0mimgs\u001b[0m\u001b[0;34m,\u001b[0m \u001b[0msaveto\u001b[0m\u001b[0;34m=\u001b[0m\u001b[0mgif_name\u001b[0m\u001b[0;34m,\u001b[0m \u001b[0mshow_gif\u001b[0m\u001b[0;34m=\u001b[0m\u001b[0;32mFalse\u001b[0m\u001b[0;34m)\u001b[0m\u001b[0;34m\u001b[0m\u001b[0m\n\u001b[0m\u001b[1;32m      6\u001b[0m \u001b[0mipyd\u001b[0m\u001b[0;34m.\u001b[0m\u001b[0mImage\u001b[0m\u001b[0;34m(\u001b[0m\u001b[0murl\u001b[0m\u001b[0;34m=\u001b[0m\u001b[0mgif_name\u001b[0m\u001b[0;34m,\u001b[0m\u001b[0mheight\u001b[0m\u001b[0;34m=\u001b[0m\u001b[0;36m200\u001b[0m\u001b[0;34m,\u001b[0m \u001b[0mwidth\u001b[0m\u001b[0;34m=\u001b[0m\u001b[0;36m200\u001b[0m\u001b[0;34m)\u001b[0m\u001b[0;34m\u001b[0m\u001b[0m\n",
      "\u001b[0;32m/home/ppyht2/tf-repos/tf-exercise/ex1. Image Redraw/gif.py\u001b[0m in \u001b[0;36mbuild_gif\u001b[0;34m(imgs, interval, dpi, save_gif, saveto, show_gif, cmap)\u001b[0m\n\u001b[1;32m     38\u001b[0m     \"\"\"\n\u001b[1;32m     39\u001b[0m     \u001b[0mimgs\u001b[0m \u001b[0;34m=\u001b[0m \u001b[0mnp\u001b[0m\u001b[0;34m.\u001b[0m\u001b[0masarray\u001b[0m\u001b[0;34m(\u001b[0m\u001b[0mimgs\u001b[0m\u001b[0;34m)\u001b[0m\u001b[0;34m\u001b[0m\u001b[0m\n\u001b[0;32m---> 40\u001b[0;31m     \u001b[0mh\u001b[0m\u001b[0;34m,\u001b[0m \u001b[0mw\u001b[0m\u001b[0;34m,\u001b[0m \u001b[0;34m*\u001b[0m\u001b[0mc\u001b[0m \u001b[0;34m=\u001b[0m \u001b[0mimgs\u001b[0m\u001b[0;34m[\u001b[0m\u001b[0;36m0\u001b[0m\u001b[0;34m]\u001b[0m\u001b[0;34m.\u001b[0m\u001b[0mshape\u001b[0m\u001b[0;34m\u001b[0m\u001b[0m\n\u001b[0m\u001b[1;32m     41\u001b[0m     \u001b[0mfig\u001b[0m\u001b[0;34m,\u001b[0m \u001b[0max\u001b[0m \u001b[0;34m=\u001b[0m \u001b[0mplt\u001b[0m\u001b[0;34m.\u001b[0m\u001b[0msubplots\u001b[0m\u001b[0;34m(\u001b[0m\u001b[0mfigsize\u001b[0m\u001b[0;34m=\u001b[0m\u001b[0;34m(\u001b[0m\u001b[0mnp\u001b[0m\u001b[0;34m.\u001b[0m\u001b[0mround\u001b[0m\u001b[0;34m(\u001b[0m\u001b[0mw\u001b[0m \u001b[0;34m/\u001b[0m \u001b[0mdpi\u001b[0m\u001b[0;34m)\u001b[0m\u001b[0;34m,\u001b[0m \u001b[0mnp\u001b[0m\u001b[0;34m.\u001b[0m\u001b[0mround\u001b[0m\u001b[0;34m(\u001b[0m\u001b[0mh\u001b[0m \u001b[0;34m/\u001b[0m \u001b[0mdpi\u001b[0m\u001b[0;34m)\u001b[0m\u001b[0;34m)\u001b[0m\u001b[0;34m)\u001b[0m\u001b[0;34m\u001b[0m\u001b[0m\n\u001b[1;32m     42\u001b[0m     \u001b[0mfig\u001b[0m\u001b[0;34m.\u001b[0m\u001b[0msubplots_adjust\u001b[0m\u001b[0;34m(\u001b[0m\u001b[0mbottom\u001b[0m\u001b[0;34m=\u001b[0m\u001b[0;36m0\u001b[0m\u001b[0;34m)\u001b[0m\u001b[0;34m\u001b[0m\u001b[0m\n",
      "\u001b[0;31mIndexError\u001b[0m: index 0 is out of bounds for axis 0 with size 0"
     ]
    }
   ],
   "source": [
    "## Save the model \n",
    "#filename = saver.save(sess, './tmp/my_model', global_step=n_iterations)\n",
    "# Save the images as a GIF\n",
    "gif_name = \"nn\" + str(no_neurons) + \"it\" + str(n_iterations) + \".gif\"\n",
    "_ = gif.build_gif(imgs, saveto=gif_name, show_gif=False)\n",
    "ipyd.Image(url=gif_name,height=200, width=200)"
   ]
  },
  {
   "cell_type": "code",
   "execution_count": null,
   "metadata": {
    "collapsed": true
   },
   "outputs": [],
   "source": []
  }
 ],
 "metadata": {
  "kernelspec": {
   "display_name": "Python 3",
   "language": "python",
   "name": "python3"
  },
  "language_info": {
   "codemirror_mode": {
    "name": "ipython",
    "version": 3
   },
   "file_extension": ".py",
   "mimetype": "text/x-python",
   "name": "python",
   "nbconvert_exporter": "python",
   "pygments_lexer": "ipython3",
   "version": "3.5.2"
  }
 },
 "nbformat": 4,
 "nbformat_minor": 2
}
