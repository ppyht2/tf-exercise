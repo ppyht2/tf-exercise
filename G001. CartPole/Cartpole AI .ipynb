{
 "cells": [
  {
   "cell_type": "code",
   "execution_count": 1,
   "metadata": {
    "collapsed": false,
    "deletable": true,
    "editable": true
   },
   "outputs": [],
   "source": [
    "import gym \n",
    "import numpy as np \n",
    "import tensorflow as tf\n",
    "import matplotlib.pyplot as plt\n",
    "from matplotlib import animation\n",
    "\n",
    "% matplotlib inline"
   ]
  },
  {
   "cell_type": "markdown",
   "metadata": {
    "deletable": true,
    "editable": true
   },
   "source": [
    "# [Open AI Gym CartPole-v0](https://gym.openai.com/envs/CartPole-v0)"
   ]
  },
  {
   "cell_type": "code",
   "execution_count": 2,
   "metadata": {
    "collapsed": false,
    "deletable": true,
    "editable": true
   },
   "outputs": [
    {
     "name": "stderr",
     "output_type": "stream",
     "text": [
      "[2017-07-23 14:26:34,937] Making new env: CartPole-v0\n"
     ]
    }
   ],
   "source": [
    "env = gym.make('CartPole-v0')\n",
    "obs = env.reset()"
   ]
  },
  {
   "cell_type": "markdown",
   "metadata": {
    "deletable": true,
    "editable": true
   },
   "source": [
    "# Basic Policy"
   ]
  },
  {
   "cell_type": "code",
   "execution_count": 3,
   "metadata": {
    "collapsed": false,
    "deletable": true,
    "editable": true
   },
   "outputs": [],
   "source": [
    "def basic_policy(obs):\n",
    "    # cart position, cart velocity, pole angular positon and pole angular velocity\n",
    "    if obs[2] > 0:\n",
    "        action = 1\n",
    "    else:\n",
    "        action = 0\n",
    "    return action"
   ]
  },
  {
   "cell_type": "code",
   "execution_count": 4,
   "metadata": {
    "collapsed": false,
    "deletable": true,
    "editable": true
   },
   "outputs": [
    {
     "name": "stdout",
     "output_type": "stream",
     "text": [
      "Mean: 42.47\n",
      "Mean: 8.91566598746\n",
      "Mean: 64.0\n",
      "Mean: 25.0\n"
     ]
    }
   ],
   "source": [
    "max_rewards = 250\n",
    "n_episods = 100\n",
    "\n",
    "total_rewards = np.empty((n_episods))\n",
    "\n",
    "for e in range(n_episods):\n",
    "    obs = env.reset()\n",
    "    episode_reward = 0\n",
    "    for s in range(max_rewards):\n",
    "        action = basic_policy(obs)\n",
    "        obs, rewards, done, info = env.step(action)\n",
    "        episode_reward += rewards\n",
    "        if done:\n",
    "            break\n",
    "    total_rewards[e] = episode_reward\n",
    "    \n",
    "    \n",
    "print('Mean:', np.mean(total_rewards))\n",
    "print('Mean:', np.std(total_rewards))\n",
    "print('Mean:', np.max(total_rewards))\n",
    "print('Mean:', np.min(total_rewards))"
   ]
  },
  {
   "cell_type": "markdown",
   "metadata": {
    "deletable": true,
    "editable": true
   },
   "source": [
    "# Neural Network"
   ]
  },
  {
   "cell_type": "code",
   "execution_count": 5,
   "metadata": {
    "collapsed": false,
    "deletable": true,
    "editable": true
   },
   "outputs": [],
   "source": [
    "tf.reset_default_graph()\n",
    "\n",
    "n_inputs = env.observation_space.shape[0]\n",
    "n_outputs = 1 # the probability of going left \n",
    "n_hidden = 4\n",
    "learning_rate = 0.01\n",
    "\n",
    "# Input Placehodlers\n",
    "x = tf.placeholder(tf.float32, [None, n_inputs])\n",
    "\n",
    "# Layers\n",
    "input_layer = tf.contrib.layers.fully_connected(inputs=x, num_outputs=n_hidden)\n",
    "hidden_layer = tf.contrib.layers.fully_connected(input_layer, n_hidden)\n",
    "output_layer = tf.contrib.layers.fully_connected(inputs=hidden_layer, num_outputs=n_outputs, activation_fn=None)\n",
    "\n",
    "# Sigmoid * multinomial\n",
    "left_prob = tf.sigmoid(output_layer)\n",
    "both_prob = tf.concat(values=[left_prob, 1-left_prob], axis=1)\n",
    "\n",
    "action = tf.multinomial(tf.log(both_prob), 1)\n",
    "\n",
    "\n",
    "# Policy Gradient \n",
    "# First let's assume the action we take is always the best\n",
    "# action is 1, we are going to the right, left prob should be 0\n",
    "# action is 0, we are going to the left, left prob should be 1\n",
    "y = 1 - tf.to_float(action)\n",
    "\n",
    "cross_entropy = tf.nn.sigmoid_cross_entropy_with_logits(labels=y, logits=output_layer)\n",
    "optimiser = tf.train.AdamOptimizer(learning_rate)\n",
    "grads_and_vars = optimiser.compute_gradients(cross_entropy)\n",
    "\n",
    "gradients = [grad for grad, var in grads_and_vars]\n",
    "\n",
    "# Apply gradients\n",
    "gradient_placeholders = []\n",
    "grad_and_vars_feed = []\n",
    "\n",
    "for grad, var in grads_and_vars:\n",
    "    grad_placeholder = tf.placeholder(tf.float32, grad.get_shape())\n",
    "    gradient_placeholders.append(grad_placeholder)\n",
    "    grad_and_vars_feed.append((grad_placeholder, var))\n",
    "    \n",
    "# Training op\n",
    "training_op = optimiser.apply_gradients(grad_and_vars_feed)\n",
    "\n",
    "# Init ops\n",
    "init_op = tf.global_variables_initializer()\n",
    "saver = tf.train.Saver(max_to_keep=100)"
   ]
  },
  {
   "cell_type": "code",
   "execution_count": 6,
   "metadata": {
    "collapsed": false,
    "deletable": true,
    "editable": true
   },
   "outputs": [],
   "source": [
    "def discount_rewards(rewards, discount_rate):    \n",
    "    discounted_rewards = np.empty(len(rewards))\n",
    "    cumulative_rewards = 0\n",
    "    for i in reversed(range(len(rewards))):\n",
    "        cumulative_rewards = rewards[i] + cumulative_rewards*discount_rate\n",
    "        discounted_rewards[i] = cumulative_rewards\n",
    "    \n",
    "    return discounted_rewards\n",
    "\n",
    "def discount_and_normalize_rewards(all_rewards, discount_rate):\n",
    "    all_discounted_rewards = [discount_rewards(rewards, discount_rate) for rewards in all_rewards]\n",
    "    flat_rewards = np.concatenate(all_discounted_rewards)\n",
    "    \n",
    "    reward_mean = flat_rewards.mean()\n",
    "    reward_std = flat_rewards.std()\n",
    "    \n",
    "    return [(discounted_rewards - reward_mean)/reward_std for discounted_rewards in all_discounted_rewards]"
   ]
  },
  {
   "cell_type": "code",
   "execution_count": 7,
   "metadata": {
    "collapsed": false,
    "deletable": true,
    "editable": true,
    "scrolled": false
   },
   "outputs": [
    {
     "name": "stderr",
     "output_type": "stream",
     "text": [
      "[2017-07-23 14:26:42,579] Making new env: CartPole-v0\n",
      "[2017-07-23 14:26:42,583] Creating monitor directory ./gym_upload\n",
      "[2017-07-23 14:26:42,588] Starting new video recorder writing to /home/ppyht2/1. Repositories/tf-exercise/G001. CartPole/gym_upload/openaigym.video.0.20384.video000000.mp4\n",
      "[2017-07-23 14:26:44,513] Starting new video recorder writing to /home/ppyht2/1. Repositories/tf-exercise/G001. CartPole/gym_upload/openaigym.video.0.20384.video000001.mp4\n",
      "[2017-07-23 14:26:45,792] Starting new video recorder writing to /home/ppyht2/1. Repositories/tf-exercise/G001. CartPole/gym_upload/openaigym.video.0.20384.video000008.mp4\n"
     ]
    },
    {
     "name": "stdout",
     "output_type": "stream",
     "text": [
      "Iteration:  0 Average Reward:  21.3\n"
     ]
    },
    {
     "name": "stderr",
     "output_type": "stream",
     "text": [
      "[2017-07-23 14:26:47,549] Starting new video recorder writing to /home/ppyht2/1. Repositories/tf-exercise/G001. CartPole/gym_upload/openaigym.video.0.20384.video000027.mp4\n",
      "[2017-07-23 14:26:49,966] Starting new video recorder writing to /home/ppyht2/1. Repositories/tf-exercise/G001. CartPole/gym_upload/openaigym.video.0.20384.video000064.mp4\n"
     ]
    },
    {
     "name": "stdout",
     "output_type": "stream",
     "text": [
      "Iteration:  10 Average Reward:  21.4\n"
     ]
    },
    {
     "name": "stderr",
     "output_type": "stream",
     "text": [
      "[2017-07-23 14:26:53,264] Starting new video recorder writing to /home/ppyht2/1. Repositories/tf-exercise/G001. CartPole/gym_upload/openaigym.video.0.20384.video000125.mp4\n"
     ]
    },
    {
     "name": "stdout",
     "output_type": "stream",
     "text": [
      "Iteration:  20 Average Reward:  19.5\n"
     ]
    },
    {
     "name": "stderr",
     "output_type": "stream",
     "text": [
      "[2017-07-23 14:26:58,914] Starting new video recorder writing to /home/ppyht2/1. Repositories/tf-exercise/G001. CartPole/gym_upload/openaigym.video.0.20384.video000216.mp4\n"
     ]
    },
    {
     "name": "stdout",
     "output_type": "stream",
     "text": [
      "Iteration:  30 Average Reward:  42.6\n"
     ]
    },
    {
     "name": "stderr",
     "output_type": "stream",
     "text": [
      "[2017-07-23 14:27:11,310] Starting new video recorder writing to /home/ppyht2/1. Repositories/tf-exercise/G001. CartPole/gym_upload/openaigym.video.0.20384.video000343.mp4\n"
     ]
    },
    {
     "name": "stdout",
     "output_type": "stream",
     "text": [
      "Iteration:  40 Average Reward:  87.9\n",
      "Iteration:  50 Average Reward:  126.4\n"
     ]
    },
    {
     "name": "stderr",
     "output_type": "stream",
     "text": [
      "[2017-07-23 14:27:40,117] Starting new video recorder writing to /home/ppyht2/1. Repositories/tf-exercise/G001. CartPole/gym_upload/openaigym.video.0.20384.video000512.mp4\n"
     ]
    },
    {
     "name": "stdout",
     "output_type": "stream",
     "text": [
      "Iteration:  60 Average Reward:  171.9\n",
      "Iteration:  70 Average Reward:  185.6\n"
     ]
    },
    {
     "name": "stderr",
     "output_type": "stream",
     "text": [
      "[2017-07-23 14:29:02,402] Starting new video recorder writing to /home/ppyht2/1. Repositories/tf-exercise/G001. CartPole/gym_upload/openaigym.video.0.20384.video000729.mp4\n"
     ]
    },
    {
     "name": "stdout",
     "output_type": "stream",
     "text": [
      "Iteration:  80 Average Reward:  198.0\n",
      "Iteration:  90 Average Reward:  193.6\n"
     ]
    },
    {
     "name": "stderr",
     "output_type": "stream",
     "text": [
      "[2017-07-23 14:30:57,138] Starting new video recorder writing to /home/ppyht2/1. Repositories/tf-exercise/G001. CartPole/gym_upload/openaigym.video.0.20384.video001000.mp4\n"
     ]
    },
    {
     "name": "stdout",
     "output_type": "stream",
     "text": [
      "Iteration:  100 Average Reward:  197.0\n",
      "Iteration:  110 Average Reward:  156.0\n",
      "Iteration:  120 Average Reward:  159.5\n",
      "Iteration:  130 Average Reward:  200.0\n",
      "Iteration:  140 Average Reward:  200.0\n",
      "Iteration:  150 Average Reward:  200.0\n",
      "Iteration:  160 Average Reward:  192.0\n",
      "Iteration:  170 Average Reward:  200.0\n",
      "Iteration:  180 Average Reward:  200.0\n",
      "Iteration:  190 Average Reward:  194.1\n"
     ]
    },
    {
     "name": "stderr",
     "output_type": "stream",
     "text": [
      "[2017-07-23 14:37:30,756] Starting new video recorder writing to /home/ppyht2/1. Repositories/tf-exercise/G001. CartPole/gym_upload/openaigym.video.0.20384.video002000.mp4\n"
     ]
    },
    {
     "name": "stdout",
     "output_type": "stream",
     "text": [
      "Iteration:  200 Average Reward:  199.2\n",
      "Iteration:  210 Average Reward:  186.1\n",
      "Iteration:  220 Average Reward:  171.2\n",
      "Iteration:  230 Average Reward:  156.3\n",
      "Iteration:  240 Average Reward:  199.3\n",
      "Iteration:  250 Average Reward:  200.0\n",
      "Iteration:  260 Average Reward:  200.0\n",
      "Iteration:  270 Average Reward:  200.0\n",
      "Iteration:  280 Average Reward:  200.0\n",
      "Iteration:  290 Average Reward:  200.0\n"
     ]
    }
   ],
   "source": [
    "n_game_per_update = 10\n",
    "n_max_steps = 200\n",
    "n_iterations = 300\n",
    "\n",
    "save_iterations = 10\n",
    "saved_at = []\n",
    "discount_rate = 0.95\n",
    "model_path = \"./checkpoints/\"\n",
    "\n",
    "sess = tf.InteractiveSession()\n",
    "init_op.run()\n",
    "\n",
    "env = gym.make(\"CartPole-v0\")\n",
    "env = gym.wrappers.Monitor(env, './gym_upload')\n",
    "\n",
    "for iteration in range(n_iterations):\n",
    "    #print(\"\\rIteration: {}\".format(iteration), end=\"\")\n",
    "    all_rewards = []\n",
    "    all_gradients = []\n",
    "    \n",
    "    for game in range(n_game_per_update):\n",
    "        current_rewards = []\n",
    "        current_gradients = []\n",
    "        obs = env.reset()\n",
    "        \n",
    "        for step in range(n_max_steps):\n",
    "            #env.render()\n",
    "            action_val, gradients_val = sess.run([action, gradients], feed_dict={x:obs.reshape(-1, n_inputs)})\n",
    "            obs, reward, done, info = env.step(action_val[0][0])\n",
    "            #reward -= 0.5*np.abs(obs[0]) # modife rewards to keep the cart in the center\n",
    "            current_rewards.append(reward)\n",
    "            current_gradients.append(gradients_val)\n",
    "            if done:\n",
    "                break\n",
    "        all_rewards.append(current_rewards)\n",
    "        all_gradients.append(current_gradients)\n",
    "    \n",
    "    all_rewards_normal = discount_and_normalize_rewards(all_rewards, discount_rate=discount_rate)\n",
    "    feed_dict = {}\n",
    "    for var_index, gradient_placeholder in enumerate(gradient_placeholders):\n",
    "        mean_gradients = np.mean([reward * all_gradients[game_index][step][var_index]\n",
    "                                  for game_index, rewards in enumerate(all_rewards_normal)\n",
    "                                  for step, reward in enumerate(rewards)], axis=0)\n",
    "        feed_dict[gradient_placeholder] = mean_gradients\n",
    "        \n",
    "    sess.run(training_op, feed_dict=feed_dict)\n",
    "    \n",
    "    if iteration % save_iterations ==0:\n",
    "        saver.save(sess, model_path+'ckpt', global_step=iteration)\n",
    "        saved_at.append(iteration)\n",
    "        print('Iteration: ', iteration, 'Average Reward: ', np.mean([len(r) for r in all_rewards]))\n",
    "\n",
    "env.close()"
   ]
  },
  {
   "cell_type": "code",
   "execution_count": null,
   "metadata": {
    "collapsed": false,
    "deletable": true,
    "editable": true
   },
   "outputs": [],
   "source": [
    "gym.upload('./gym_upload', api_key='')"
   ]
  }
 ],
 "metadata": {
  "kernelspec": {
   "display_name": "Python 3",
   "language": "python",
   "name": "python3"
  },
  "language_info": {
   "codemirror_mode": {
    "name": "ipython",
    "version": 3
   },
   "file_extension": ".py",
   "mimetype": "text/x-python",
   "name": "python",
   "nbconvert_exporter": "python",
   "pygments_lexer": "ipython3",
   "version": "3.5.2"
  }
 },
 "nbformat": 4,
 "nbformat_minor": 2
}
