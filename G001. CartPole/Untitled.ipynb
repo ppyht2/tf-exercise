{
 "cells": [
  {
   "cell_type": "code",
   "execution_count": 1,
   "metadata": {
    "collapsed": true
   },
   "outputs": [],
   "source": [
    "import gym \n",
    "import numpy as np "
   ]
  },
  {
   "cell_type": "code",
   "execution_count": 4,
   "metadata": {
    "collapsed": false
   },
   "outputs": [
    {
     "name": "stderr",
     "output_type": "stream",
     "text": [
      "[2017-06-04 20:48:16,106] Making new env: CartPole-v0\n"
     ]
    }
   ],
   "source": [
    "env = gym.make('CartPole-v0')\n",
    "obs = env.reset()"
   ]
  },
  {
   "cell_type": "code",
   "execution_count": 11,
   "metadata": {
    "collapsed": false
   },
   "outputs": [],
   "source": [
    "def basic_policy(obs):\n",
    "    # cart position, cart velocity, pole angular positon and pole angular velocity\n",
    "    if obs[2] > 0:\n",
    "        action = 1\n",
    "    else:\n",
    "        action = 0\n",
    "    return action\n"
   ]
  },
  {
   "cell_type": "code",
   "execution_count": 14,
   "metadata": {
    "collapsed": false
   },
   "outputs": [
    {
     "name": "stdout",
     "output_type": "stream",
     "text": [
      "Mean: 41.22\n",
      "Mean: 8.44580369177\n",
      "Mean: 59.0\n",
      "Mean: 24.0\n"
     ]
    }
   ],
   "source": [
    "max_rewards = 250\n",
    "n_episods = 100\n",
    "\n",
    "total_rewards = np.empty((n_episods))\n",
    "\n",
    "for e in range(n_episods):\n",
    "    obs = env.reset()\n",
    "    episode_reward = 0\n",
    "    for s in range(max_rewards):\n",
    "        action = basic_policy(obs)\n",
    "        obs, rewards, done, info = env.step(action)\n",
    "        episode_reward += rewards\n",
    "        if done:\n",
    "            break\n",
    "    total_rewards[e] = episode_reward\n",
    "    \n",
    "    \n",
    "print('Mean:', np.mean(total_rewards))\n",
    "print('Mean:', np.std(total_rewards))\n",
    "print('Mean:', np.max(total_rewards))\n",
    "print('Mean:', np.min(total_rewards))"
   ]
  }
 ],
 "metadata": {
  "kernelspec": {
   "display_name": "Python 3",
   "language": "python",
   "name": "python3"
  },
  "language_info": {
   "codemirror_mode": {
    "name": "ipython",
    "version": 3
   },
   "file_extension": ".py",
   "mimetype": "text/x-python",
   "name": "python",
   "nbconvert_exporter": "python",
   "pygments_lexer": "ipython3",
   "version": "3.5.2"
  }
 },
 "nbformat": 4,
 "nbformat_minor": 2
}
