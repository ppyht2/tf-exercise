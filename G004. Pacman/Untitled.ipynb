{
 "cells": [
  {
   "cell_type": "code",
   "execution_count": 1,
   "metadata": {
    "collapsed": true
   },
   "outputs": [],
   "source": [
    "import numpy as np\n",
    "import tensorflow as tf \n",
    "import gym \n",
    "import matplotlib.pyplot as plt\n",
    "% matplotlib inline\n"
   ]
  },
  {
   "cell_type": "markdown",
   "metadata": {},
   "source": [
    "# MsPacman Environment"
   ]
  },
  {
   "cell_type": "code",
   "execution_count": 5,
   "metadata": {
    "collapsed": false
   },
   "outputs": [
    {
     "name": "stderr",
     "output_type": "stream",
     "text": [
      "[2017-07-23 18:25:37,496] Making new env: MsPacman-v0\n"
     ]
    },
    {
     "name": "stdout",
     "output_type": "stream",
     "text": [
      "Observation Shape: (210, 160, 3)\n",
      "Number of actions: Discrete(9)\n"
     ]
    },
    {
     "data": {
      "text/plain": [
       "<matplotlib.image.AxesImage at 0x7f48b2bd5978>"
      ]
     },
     "execution_count": 5,
     "metadata": {},
     "output_type": "execute_result"
    },
    {
     "data": {
      "image/png": "[encoded data removed]",
      "text/plain": [
       "<matplotlib.figure.Figure at 0x7f48b2cdff60>"
      ]
     },
     "metadata": {},
     "output_type": "display_data"
    }
   ],
   "source": [
    "env = gym.make(\"MsPacman-v0\")\n",
    "obs = env.reset()\n",
    "print('Observation Shape:', obs.shape)\n",
    "print('Number of actions:', env.action_space)\n",
    "plt.imshow(obs)"
   ]
  },
  {
   "cell_type": "markdown",
   "metadata": {},
   "source": [
    "# Image Preprocessing "
   ]
  },
  {
   "cell_type": "code",
   "execution_count": 24,
   "metadata": {
    "collapsed": false
   },
   "outputs": [
    {
     "name": "stdout",
     "output_type": "stream",
     "text": [
      "Post process shape (86, 80, 3)\n"
     ]
    },
    {
     "data": {
      "text/plain": [
       "<matplotlib.image.AxesImage at 0x7f48b216d9b0>"
      ]
     },
     "execution_count": 24,
     "metadata": {},
     "output_type": "execute_result"
    },
    {
     "data": {
      "image/png": "[encoded data removed]",
      "text/plain": [
       "<matplotlib.figure.Figure at 0x7f48b21aa160>"
      ]
     },
     "metadata": {},
     "output_type": "display_data"
    }
   ],
   "source": [
    "mspacman_colour = np.array([210, 164, 74]).mean()\n",
    "def preprocess_obseration(obs):\n",
    "    img = obs[1:176:2, ::2] # Crop and down size\n",
    "    img = (img-128)/128 - 1 # Normalise\n",
    "    # Could also reduce to grey scale if needed\n",
    "    return img\n",
    "    \n",
    "example = preprocess_obseration(obs)\n",
    "print('Post process shape', post.shape)\n",
    "plt.imshow(example)"
   ]
  },
  {
   "cell_type": "markdown",
   "metadata": {},
   "source": [
    "# Define hyperparameters"
   ]
  },
  {
   "cell_type": "code",
   "execution_count": 28,
   "metadata": {
    "collapsed": false
   },
   "outputs": [],
   "source": [
    "# input -> conv -> conv -> conv -> fc -> fc -> Q-values \n",
    "\n",
    "input_height, input_width, input_channels = post.shape\n",
    "conv_n_maps = [32, 64, 64]\n",
    "conv_kernel_sizes = [(8,8), (4,4), (3,3)]\n",
    "conv_strides = [4, 2, 1]\n",
    "conv_paddings = [\"SAME\"]*3\n",
    "conv_activation = [tf.nn.relu]*3\n",
    "n_hidden_in = 64 * input_height/8 * input_width/8\n",
    "n_hidden = 512\n",
    "hidden_activation = tf.nn.relu\n",
    "n_outputs = env.action_space.n\n",
    "initialiser = tf.contrib.layers.variance_scaling_initializer()"
   ]
  },
  {
   "cell_type": "markdown",
   "metadata": {},
   "source": [
    "# Deep Q-Learning"
   ]
  },
  {
   "cell_type": "code",
   "execution_count": 29,
   "metadata": {
    "collapsed": true
   },
   "outputs": [],
   "source": [
    "def q_network(X_state, scope):\n",
    "    prev_layer = x_state\n",
    "    conv_layers = []\n",
    "    with tf.variable_scope(scope):\n",
    "        for n_maps, kernel_size, stride, padding, activation in zip(\n",
    "            conv_n_maps, conv_kernel_sizes,\n",
    "            conv_strides, conv_paddings, conv_activation):\n",
    "            prev_layer = tf.contrib.layers.conv2d(prev_layer, num_outputs=n_maps,\n",
    "                                                  kernel_size=kernel_size, stride=stride,\n",
    "                                                 padding=padding, activation_fn =activation)\n",
    "            conv_layers.append(prev_layer)\n",
    "            last_conv_layer_flat = tf.reshape(prev_layer, shape=[-1, n_hidden_in])\n",
    "            hidden = tf.contrib.layers.fully_connected(last_conv_layer_flat,\n",
    "                                                       num_outputs=n_hidden,\n",
    "                                                       activation_fn=hidden_activation,\n",
    "                                                       weights_initializer=initialiser)\n",
    "            outputs = tf.contrib.layers.fully_connected(hidden,n_outputs, activation_fn=None,\n",
    "                                                        weights_initializer=initialiser)\n",
    "            \n",
    "            \n",
    "            \n",
    "    "
   ]
  },
  {
   "cell_type": "code",
   "execution_count": null,
   "metadata": {
    "collapsed": true
   },
   "outputs": [],
   "source": [
    "# Actor-critic we maintain two sets of parameters \n",
    "# Critic - Update action-value function parameters\n",
    "# Actor - Updates policy parameters in direction suggested by critic "
   ]
  }
 ],
 "metadata": {
  "kernelspec": {
   "display_name": "Python 3",
   "language": "python",
   "name": "python3"
  },
  "language_info": {
   "codemirror_mode": {
    "name": "ipython",
    "version": 3
   },
   "file_extension": ".py",
   "mimetype": "text/x-python",
   "name": "python",
   "nbconvert_exporter": "python",
   "pygments_lexer": "ipython3",
   "version": "3.5.2"
  }
 },
 "nbformat": 4,
 "nbformat_minor": 2
}
