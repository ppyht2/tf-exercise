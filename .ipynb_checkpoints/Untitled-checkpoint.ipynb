{
 "cells": [
  {
   "cell_type": "code",
   "execution_count": 46,
   "metadata": {
    "collapsed": true,
    "deletable": true,
    "editable": true
   },
   "outputs": [],
   "source": [
    "import numpy as np\n",
    "import tensorflow as tf"
   ]
  },
  {
   "cell_type": "code",
   "execution_count": null,
   "metadata": {
    "collapsed": true
   },
   "outputs": [],
   "source": [
    "# https://github.com/guillaume-chevalier/seq2seq-signal-prediction"
   ]
  },
  {
   "cell_type": "code",
   "execution_count": 49,
   "metadata": {
    "collapsed": true
   },
   "outputs": [],
   "source": [
    "voc = 10\n",
    "n_steps = 14\n",
    "n_input = 2\n",
    "n_output = 1"
   ]
  },
  {
   "cell_type": "code",
   "execution_count": 54,
   "metadata": {
    "collapsed": false
   },
   "outputs": [
    {
     "data": {
      "text/plain": [
       "'\\nprint(x.shape)\\nprint(y.shape)\\nprint(x[:, 0, :])\\nprint(y[:, 0])\\n#print(y[0])\\n'"
      ]
     },
     "execution_count": 54,
     "metadata": {},
     "output_type": "execute_result"
    }
   ],
   "source": [
    "def get_batch(batch_size):\n",
    "    x = np.random.randint(voc, size=[n_steps, batch_size, n_input])\n",
    "    y = np.flip(x, axis=0)\n",
    "    y = np.sum(y, axis=2).reshape((n_steps, batch_size, n_output))\n",
    "    return x, y\n",
    "\n",
    "x, y = get_batch(100)\n",
    "'''\n",
    "print(x.shape)\n",
    "print(y.shape)\n",
    "print(x[:, 0, :])\n",
    "print(y[:, 0])\n",
    "#print(y[0])\n",
    "'''"
   ]
  },
  {
   "cell_type": "code",
   "execution_count": 55,
   "metadata": {
    "collapsed": false,
    "deletable": true,
    "editable": true
   },
   "outputs": [],
   "source": [
    "n_hidden = 10\n",
    "layers_stacked_count = 2  # Number of stacked recurrent cells, on the neural depth axis. \n",
    "\n",
    "tf.reset_default_graph()\n",
    "\n",
    "sess = tf.InteractiveSession()\n",
    "\n",
    "enc_inp = [tf.placeholder(tf.float32, [None, n_input]) for i in range(n_steps)]\n",
    "expect = [tf.placeholder(tf.float32, [None, n_output]) for i in range(n_steps)]\n",
    "dec_inp = [ tf.zeros_like(enc_inp[0], dtype=tf.float32, name=\"GO\") ] + enc_inp[:-1]\n",
    "\n",
    "cells = [tf.contrib.rnn.BasicLSTMCell(n_hidden) for i in range(layers_stacked_count)]\n",
    "cell = tf.contrib.rnn.MultiRNNCell(cells)\n",
    "\n",
    "dec_outputs, dec_states = tf.contrib.legacy_seq2seq.basic_rnn_seq2seq(enc_inp, dec_inp, cell)\n",
    "\n",
    "w_out = tf.Variable(tf.random_normal([n_hidden, n_output]))\n",
    "b_out = tf.Variable(tf.random_normal([n_output]))\n",
    "reshaped_outputs = [(tf.matmul(i, w_out) + b_out) for i in dec_outputs]\n",
    "\n",
    "diff = tf.squared_difference(expect, reshaped_outputs)\n",
    "individual_loss = tf.reduce_sum(diff, axis=0)\n",
    "loss = tf.reduce_mean(individual_loss, axis=0)\n",
    "\n",
    "optimiser = tf.train.AdamOptimizer(1e-3)\n",
    "training_op = optimiser.minimize(loss)\n",
    "\n",
    "init_op = tf.global_variables_initializer()"
   ]
  },
  {
   "cell_type": "code",
   "execution_count": 56,
   "metadata": {
    "collapsed": false
   },
   "outputs": [
    {
     "name": "stdout",
     "output_type": "stream",
     "text": [
      "[ 258.29586792]\n",
      "[ 255.52160645]\n",
      "[ 230.65081787]\n",
      "[ 248.21842957]\n",
      "[ 240.53517151]\n",
      "[ 215.2906189]\n",
      "[ 192.46194458]\n",
      "[ 190.83810425]\n",
      "[ 184.46020508]\n",
      "[ 189.09442139]\n"
     ]
    }
   ],
   "source": [
    "sess = tf.InteractiveSession()\n",
    "\n",
    "init_op.run()\n",
    "\n",
    "for e in range(10):\n",
    "    for i in range(100):\n",
    "        batch_x, batch_y = get_batch(50)\n",
    "        feed_dict = {enc_inp[t]:batch_x[t] for t in range(len(enc_inp))}\n",
    "        feed_dict.update({expect[t]: batch_y[t] for t in range(len(expect))})\n",
    "        training_op.run(feed_dict=feed_dict)\n",
    "        \n",
    "    print(loss.eval(feed_dict=feed_dict))"
   ]
  },
  {
   "cell_type": "code",
   "execution_count": 65,
   "metadata": {
    "collapsed": false
   },
   "outputs": [
    {
     "name": "stdout",
     "output_type": "stream",
     "text": [
      "[ 9  7  4 14  8  9 11  6 13  8 10 11  8  0]\n",
      "---------\n",
      "[ 8  6  5 13  7  9 10  6 12  7 10 10  6  1]\n"
     ]
    }
   ],
   "source": [
    "test_x, test_y = get_batch(1)\n",
    "print(test_y.reshape((-1)))\n",
    "print('---------')\n",
    "feed_dict = {enc_inp[t]:test_x[t] for t in range(len(enc_inp))}\n",
    "pred = [int(i.eval(feed_dict=feed_dict)) for i in reshaped_outputs]\n",
    "print(np.array(pred))"
   ]
  },
  {
   "cell_type": "code",
   "execution_count": 64,
   "metadata": {
    "collapsed": false
   },
   "outputs": [
    {
     "name": "stdout",
     "output_type": "stream",
     "text": [
      "[ 55.52490997]\n",
      "[ 45.62505341]\n",
      "[ 50.34844208]\n",
      "[ 49.02774429]\n",
      "[ 45.09157562]\n",
      "[ 53.64335632]\n",
      "[ 42.15190125]\n",
      "[ 45.09565735]\n",
      "[ 40.51711655]\n",
      "[ 39.62434006]\n",
      "[ 42.93576813]\n",
      "[ 36.71058655]\n",
      "[ 30.19380569]\n",
      "[ 30.20914459]\n",
      "[ 30.45394897]\n",
      "[ 28.07727051]\n",
      "[ 26.55237579]\n",
      "[ 24.03799057]\n",
      "[ 23.85711479]\n",
      "[ 26.63663101]\n"
     ]
    }
   ],
   "source": [
    "for e in range(20):\n",
    "    for i in range(100):\n",
    "        batch_x, batch_y = get_batch(50)\n",
    "        feed_dict = {enc_inp[t]:batch_x[t] for t in range(len(enc_inp))}\n",
    "        feed_dict.update({expect[t]: batch_y[t] for t in range(len(expect))})\n",
    "        training_op.run(feed_dict=feed_dict)\n",
    "        \n",
    "    print(loss.eval(feed_dict=feed_dict))"
   ]
  },
  {
   "cell_type": "code",
   "execution_count": null,
   "metadata": {
    "collapsed": true
   },
   "outputs": [],
   "source": []
  }
 ],
 "metadata": {
  "kernelspec": {
   "display_name": "Python 3",
   "language": "python",
   "name": "python3"
  },
  "language_info": {
   "codemirror_mode": {
    "name": "ipython",
    "version": 3
   },
   "file_extension": ".py",
   "mimetype": "text/x-python",
   "name": "python",
   "nbconvert_exporter": "python",
   "pygments_lexer": "ipython3",
   "version": "3.5.2"
  }
 },
 "nbformat": 4,
 "nbformat_minor": 2
}
