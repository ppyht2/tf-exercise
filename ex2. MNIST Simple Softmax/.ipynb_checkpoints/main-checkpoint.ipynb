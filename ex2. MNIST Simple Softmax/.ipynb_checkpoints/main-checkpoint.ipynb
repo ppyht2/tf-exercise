{
 "cells": [
  {
   "cell_type": "markdown",
   "metadata": {},
   "source": [
    "# [Link](https://www.tensorflow.org/get_started/mnist/beginners)"
   ]
  },
  {
   "cell_type": "code",
   "execution_count": null,
   "metadata": {
    "collapsed": true
   },
   "outputs": [],
   "source": [
    "import numpy as np \n",
    "import tensorflow as tf \n",
    "import matplotlib.pyplot as plt\n",
    "\n",
    "\n",
    "% matplotlib inline\n",
    "plt.style.use('ggplot')"
   ]
  },
  {
   "cell_type": "markdown",
   "metadata": {},
   "source": [
    "## Import MNIST Data"
   ]
  },
  {
   "cell_type": "code",
   "execution_count": 2,
   "metadata": {
    "collapsed": false
   },
   "outputs": [
    {
     "name": "stdout",
     "output_type": "stream",
     "text": [
      "Extracting MNIST_data/train-images-idx3-ubyte.gz\n",
      "Extracting MNIST_data/train-labels-idx1-ubyte.gz\n",
      "Extracting MNIST_data/t10k-images-idx3-ubyte.gz\n",
      "Extracting MNIST_data/t10k-labels-idx1-ubyte.gz\n"
     ]
    }
   ],
   "source": [
    "from tensorflow.examples.tutorials.mnist import input_data\n",
    "mnist = input_data.read_data_sets(\"MNIST_data\", one_hot = True)"
   ]
  },
  {
   "cell_type": "markdown",
   "metadata": {},
   "source": [
    "* 55k data points in mnist.train\n",
    "* 10k data points in mnist.test\n",
    "* 5k data points in mnist.validation"
   ]
  },
  {
   "cell_type": "code",
   "execution_count": 3,
   "metadata": {
    "collapsed": false
   },
   "outputs": [
    {
     "name": "stdout",
     "output_type": "stream",
     "text": [
      "(55000, 784)\n"
     ]
    }
   ],
   "source": [
    "print(mnist.train.images.shape)"
   ]
  },
  {
   "cell_type": "markdown",
   "metadata": {},
   "source": [
    "## Plot an Example"
   ]
  },
  {
   "cell_type": "code",
   "execution_count": 4,
   "metadata": {
    "collapsed": false
   },
   "outputs": [
    {
     "data": {
      "text/plain": [
       "<matplotlib.image.AxesImage at 0x7fd346d3a518>"
      ]
     },
     "execution_count": 4,
     "metadata": {},
     "output_type": "execute_result"
    },
    {
     "data": {
      "image/png": "[encoded data removed]",
      "text/plain": [
       "<matplotlib.figure.Figure at 0x7fd37c53d048>"
      ]
     },
     "metadata": {},
     "output_type": "display_data"
    }
   ],
   "source": [
    "plt.imshow(mnist.train.images[0].reshape(28,28))"
   ]
  },
  {
   "cell_type": "code",
   "execution_count": 5,
   "metadata": {
    "collapsed": false
   },
   "outputs": [
    {
     "name": "stdout",
     "output_type": "stream",
     "text": [
      "[ 0.  0.  0.  0.  0.  0.  0.  1.  0.  0.]\n"
     ]
    },
    {
     "data": {
      "image/png": "[encoded data removed]",
      "text/plain": [
       "<matplotlib.figure.Figure at 0x7fd346d3ac18>"
      ]
     },
     "metadata": {},
     "output_type": "display_data"
    }
   ],
   "source": [
    "x, y = mnist.train.next_batch(100)\n",
    "plt.imshow(x[0].reshape(28,28))\n",
    "print(y[0])"
   ]
  },
  {
   "cell_type": "markdown",
   "metadata": {},
   "source": [
    "## Create the Simple Model"
   ]
  },
  {
   "cell_type": "code",
   "execution_count": 19,
   "metadata": {
    "collapsed": false
   },
   "outputs": [],
   "source": [
    "input_nodes = 28*28\n",
    "output_nodes = 10\n",
    "learning_rate = 0.01\n",
    "\n",
    "\n",
    "# Creating the graph\n",
    "tf.reset_default_graph()\n",
    "\n",
    "x = tf.placeholder(dtype=tf.float32, shape=[None, input_nodes])\n",
    "y = tf.placeholder(dtype=tf.float32, shape=[None, output_nodes])\n",
    "\n",
    "W = tf.get_variable(dtype=tf.float32,\n",
    "                initializer=tf.random_normal_initializer(mean = 0, stddev=0.1),\n",
    "                shape=[input_nodes, output_nodes],\n",
    "                   name = 'W')\n",
    "\n",
    "b = tf.get_variable(dtype=tf.float32,\n",
    "                   initializer=tf.constant_initializer(0.0),\n",
    "                    shape =[output_nodes],\n",
    "                    name = 'b'\n",
    "                   )\n",
    "\n",
    "h = tf.nn.softmax(tf.matmul(x,W) + b)\n",
    "\n",
    "# Cross Entropy \n",
    "\n",
    "cross_entropy = tf.reduce_mean(-tf.reduce_sum(y * tf.log(h), reduction_indices=[1]))\n",
    "\n",
    "\n",
    "optimiser = tf.train.GradientDescentOptimizer(learning_rate).minimize(cross_entropy)\n"
   ]
  },
  {
   "cell_type": "markdown",
   "metadata": {},
   "source": [
    "## Main Session"
   ]
  },
  {
   "cell_type": "code",
   "execution_count": 20,
   "metadata": {
    "collapsed": false
   },
   "outputs": [
    {
     "name": "stdout",
     "output_type": "stream",
     "text": [
      "Epoch: 0.0 Cross Entropy: 2.5994200706481934 \n",
      "Epoch: 1.0 Cross Entropy: 1.7594330310821533 \n",
      "Epoch: 2.0 Cross Entropy: 1.2128565311431885 \n",
      "Epoch: 3.0 Cross Entropy: 1.0459538698196411 \n",
      "Epoch: 4.0 Cross Entropy: 0.8880099654197693 \n",
      "Epoch: 5.0 Cross Entropy: 0.7319973111152649 \n",
      "Epoch: 6.0 Cross Entropy: 0.8688716888427734 \n",
      "Epoch: 7.0 Cross Entropy: 0.7585603594779968 \n",
      "Epoch: 8.0 Cross Entropy: 0.5562281012535095 \n",
      "Epoch: 9.0 Cross Entropy: 0.8127078413963318 \n",
      "Epoch: 10.0 Cross Entropy: 0.5033566355705261 \n"
     ]
    }
   ],
   "source": [
    "sess = tf.Session()\n",
    "sess.run(tf.global_variables_initializer())\n",
    "\n",
    "# Train\n",
    "batch_size = 100\n",
    "epoch = 10\n",
    "epoch_size = 100\n",
    "n_iter = epoch * epoch_size\n",
    "\n",
    "for iter in range(n_iter+1):\n",
    "    xs, ys = mnist.train.next_batch(batch_size)\n",
    "    sess.run(optimiser, feed_dict={x: xs, y: ys})\n",
    "    \n",
    "    if iter%epoch_size ==0:\n",
    "        print(\"Epoch: {} Cross Entropy: {} \" .format(iter/epoch_size,\n",
    "              cross_entropy.eval(feed_dict={x:xs, y:ys}, session=sess)))\n",
    "\n"
   ]
  },
  {
   "cell_type": "markdown",
   "metadata": {},
   "source": [
    "# Test "
   ]
  },
  {
   "cell_type": "code",
   "execution_count": null,
   "metadata": {
    "collapsed": true
   },
   "outputs": [],
   "source": []
  }
 ],
 "metadata": {
  "kernelspec": {
   "display_name": "Python 3",
   "language": "python",
   "name": "python3"
  },
  "language_info": {
   "codemirror_mode": {
    "name": "ipython",
    "version": 3
   },
   "file_extension": ".py",
   "mimetype": "text/x-python",
   "name": "python",
   "nbconvert_exporter": "python",
   "pygments_lexer": "ipython3",
   "version": "3.5.2"
  }
 },
 "nbformat": 4,
 "nbformat_minor": 2
}
