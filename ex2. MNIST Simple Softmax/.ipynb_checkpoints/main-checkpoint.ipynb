{
 "cells": [
  {
   "cell_type": "markdown",
   "metadata": {
    "deletable": true,
    "editable": true
   },
   "source": [
    "# [Link](https://www.tensorflow.org/get_started/mnist/beginners)\n",
    "# [Github](https://github.com/tensorflow/tensorflow/blob/master/tensorflow/examples/tutorials/mnist/mnist_softmax.py)"
   ]
  },
  {
   "cell_type": "code",
   "execution_count": 1,
   "metadata": {
    "collapsed": true,
    "deletable": true,
    "editable": true
   },
   "outputs": [],
   "source": [
    "import numpy as np \n",
    "import tensorflow as tf \n",
    "import matplotlib.pyplot as plt\n",
    "\n",
    "\n",
    "% matplotlib inline\n",
    "plt.style.use('ggplot')"
   ]
  },
  {
   "cell_type": "markdown",
   "metadata": {
    "deletable": true,
    "editable": true
   },
   "source": [
    "## Import MNIST Data"
   ]
  },
  {
   "cell_type": "code",
   "execution_count": 2,
   "metadata": {
    "collapsed": false,
    "deletable": true,
    "editable": true
   },
   "outputs": [
    {
     "name": "stdout",
     "output_type": "stream",
     "text": [
      "Extracting MNIST_data/train-images-idx3-ubyte.gz\n",
      "Extracting MNIST_data/train-labels-idx1-ubyte.gz\n",
      "Extracting MNIST_data/t10k-images-idx3-ubyte.gz\n",
      "Extracting MNIST_data/t10k-labels-idx1-ubyte.gz\n"
     ]
    }
   ],
   "source": [
    "from tensorflow.examples.tutorials.mnist import input_data\n",
    "mnist = input_data.read_data_sets(\"MNIST_data\", one_hot = True)"
   ]
  },
  {
   "cell_type": "markdown",
   "metadata": {
    "deletable": true,
    "editable": true
   },
   "source": [
    "* 55k data points in mnist.train\n",
    "* 10k data points in mnist.test\n",
    "* 5k data points in mnist.validation"
   ]
  },
  {
   "cell_type": "code",
   "execution_count": 3,
   "metadata": {
    "collapsed": false,
    "deletable": true,
    "editable": true
   },
   "outputs": [
    {
     "name": "stdout",
     "output_type": "stream",
     "text": [
      "(55000, 784)\n"
     ]
    }
   ],
   "source": [
    "print(mnist.train.images.shape)"
   ]
  },
  {
   "cell_type": "markdown",
   "metadata": {
    "deletable": true,
    "editable": true
   },
   "source": [
    "## Plot an Example"
   ]
  },
  {
   "cell_type": "code",
   "execution_count": 4,
   "metadata": {
    "collapsed": false,
    "deletable": true,
    "editable": true
   },
   "outputs": [
    {
     "data": {
      "text/plain": [
       "<matplotlib.image.AxesImage at 0x7f25156b8518>"
      ]
     },
     "execution_count": 4,
     "metadata": {},
     "output_type": "execute_result"
    },
    {
     "data": {
      "image/png": "[encoded data removed]",
      "text/plain": [
       "<matplotlib.figure.Figure at 0x7f254c6871d0>"
      ]
     },
     "metadata": {},
     "output_type": "display_data"
    }
   ],
   "source": [
    "plt.imshow(mnist.train.images[0].reshape(28,28))"
   ]
  },
  {
   "cell_type": "code",
   "execution_count": 64,
   "metadata": {
    "collapsed": false,
    "deletable": true,
    "editable": true
   },
   "outputs": [],
   "source": [
    "x, y = mnist.train.next_batch(100)\n",
    "#plt.imshow(x[0].reshape(28,28))\n",
    "#print(y[0])"
   ]
  },
  {
   "cell_type": "markdown",
   "metadata": {
    "deletable": true,
    "editable": true
   },
   "source": [
    "## Create the Simple Model"
   ]
  },
  {
   "cell_type": "code",
   "execution_count": 6,
   "metadata": {
    "collapsed": false,
    "deletable": true,
    "editable": true
   },
   "outputs": [],
   "source": [
    "input_nodes = 28*28\n",
    "output_nodes = 10\n",
    "learning_rate = 0.01\n",
    "\n",
    "\n",
    "# Creating the graph\n",
    "tf.reset_default_graph()\n",
    "\n",
    "x = tf.placeholder(dtype=tf.float32, shape=[None, input_nodes])\n",
    "y = tf.placeholder(dtype=tf.float32, shape=[None, output_nodes])\n",
    "\n",
    "W = tf.get_variable(dtype=tf.float32,\n",
    "                initializer=tf.random_normal_initializer(mean = 0, stddev=0.1),\n",
    "                shape=[input_nodes, output_nodes],\n",
    "                   name = 'W')\n",
    "\n",
    "b = tf.get_variable(dtype=tf.float32,\n",
    "                   initializer=tf.constant_initializer(0.0),\n",
    "                    shape =[output_nodes],\n",
    "                    name = 'b'\n",
    "                   )\n",
    "\n",
    "h = tf.nn.softmax(tf.matmul(x,W) + b)\n",
    "\n",
    "# Cross Entropy \n",
    "\n",
    "cross_entropy = tf.reduce_mean(-tf.reduce_sum(y * tf.log(h), reduction_indices=[1]))\n",
    "optimiser = tf.train.GradientDescentOptimizer(learning_rate).minimize(cross_entropy)\n"
   ]
  },
  {
   "cell_type": "markdown",
   "metadata": {
    "deletable": true,
    "editable": true
   },
   "source": [
    "## Main Session"
   ]
  },
  {
   "cell_type": "code",
   "execution_count": 32,
   "metadata": {
    "collapsed": false,
    "deletable": true,
    "editable": true
   },
   "outputs": [
    {
     "name": "stdout",
     "output_type": "stream",
     "text": [
      "Epoch: 0.0 Cross Entropy: 2.522023916244507 \n",
      "Epoch: 1.0 Cross Entropy: 1.6412537097930908 \n",
      "Epoch: 2.0 Cross Entropy: 1.3950774669647217 \n",
      "Epoch: 3.0 Cross Entropy: 0.8868723511695862 \n",
      "Epoch: 4.0 Cross Entropy: 1.0166337490081787 \n",
      "Epoch: 5.0 Cross Entropy: 0.8019842505455017 \n",
      "Epoch: 6.0 Cross Entropy: 0.7487879991531372 \n",
      "Epoch: 7.0 Cross Entropy: 0.7566080689430237 \n",
      "Epoch: 8.0 Cross Entropy: 0.6021692156791687 \n",
      "Epoch: 9.0 Cross Entropy: 0.7512831091880798 \n",
      "Epoch: 10.0 Cross Entropy: 0.5770627856254578 \n",
      "Epoch: 11.0 Cross Entropy: 0.5323857069015503 \n"
     ]
    }
   ],
   "source": [
    "sess = tf.Session()\n",
    "sess.run(tf.global_variables_initializer())\n",
    "\n",
    "# Train\n",
    "batch_size = 100\n",
    "epoch = 11\n",
    "epoch_size = 100\n",
    "n_iter = epoch * epoch_size\n",
    "\n",
    "for iter in range(n_iter+1):\n",
    "    xs, ys = mnist.train.next_batch(batch_size)\n",
    "    sess.run(optimiser, feed_dict={x: xs, y: ys})\n",
    "    \n",
    "    if iter%epoch_size ==0:\n",
    "        print(\"Epoch: {} Cross Entropy: {} \" .format(iter/epoch_size,\n",
    "              cross_entropy.eval(feed_dict={x:xs, y:ys}, session=sess)))\n",
    "\n"
   ]
  },
  {
   "cell_type": "markdown",
   "metadata": {
    "deletable": true,
    "editable": true
   },
   "source": [
    "# Test "
   ]
  },
  {
   "cell_type": "code",
   "execution_count": 37,
   "metadata": {
    "collapsed": false,
    "deletable": true,
    "editable": true
   },
   "outputs": [
    {
     "name": "stdout",
     "output_type": "stream",
     "text": [
      "Model Accuracy on Test Set: 85.24%\n"
     ]
    }
   ],
   "source": [
    "test_x = mnist.test.images\n",
    "test_y = mnist.test.labels\n",
    "\n",
    "correct_prediction = tf.equal(tf.argmax(y,1), tf.argmax(h,1))\n",
    "accuracy = tf.reduce_mean(tf.cast(correct_prediction, tf.float32))\n",
    "h_out = h.eval(session = sess, feed_dict={x:test_x})\n",
    "print('Model Accuracy on Test Set: {0:.2f}%' .format(100* sess.run(accuracy, feed_dict={x:test_x, y:test_y})))"
   ]
  },
  {
   "cell_type": "code",
   "execution_count": 63,
   "metadata": {
    "collapsed": false
   },
   "outputs": [
    {
     "data": {
      "text/plain": [
       "<matplotlib.text.Text at 0x7f250a9e1a20>"
      ]
     },
     "execution_count": 63,
     "metadata": {},
     "output_type": "execute_result"
    },
    {
     "data": {
      "image/png": "[encoded data removed]",
      "text/plain": [
       "<matplotlib.figure.Figure at 0x7f250ab01ba8>"
      ]
     },
     "metadata": {},
     "output_type": "display_data"
    }
   ],
   "source": [
    "ri = np.random.randint(len(h_out))\n",
    "index = range(0,10)\n",
    "f, ax = plt.subplots(1, 2)\n",
    "f.set_size_inches(10, 5)\n",
    "ax[0].imshow(test_x[ri].reshape(28,28))\n",
    "ax[0].set_title('Example Image')\n",
    "ax[1].bar(index, h_out[ri])\n",
    "ax[1].set_title('Model Confidence')"
   ]
  }
 ],
 "metadata": {
  "kernelspec": {
   "display_name": "Python 3",
   "language": "python",
   "name": "python3"
  },
  "language_info": {
   "codemirror_mode": {
    "name": "ipython",
    "version": 3
   },
   "file_extension": ".py",
   "mimetype": "text/x-python",
   "name": "python",
   "nbconvert_exporter": "python",
   "pygments_lexer": "ipython3",
   "version": "3.5.2"
  }
 },
 "nbformat": 4,
 "nbformat_minor": 2
}
