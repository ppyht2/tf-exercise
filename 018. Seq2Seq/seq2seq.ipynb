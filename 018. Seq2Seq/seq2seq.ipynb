{
 "cells": [
  {
   "cell_type": "code",
   "execution_count": 1,
   "metadata": {
    "collapsed": false,
    "deletable": true,
    "editable": true
   },
   "outputs": [
    {
     "data": {
      "text/plain": [
       "'1.2.0'"
      ]
     },
     "execution_count": 1,
     "metadata": {},
     "output_type": "execute_result"
    }
   ],
   "source": [
    "import numpy as np\n",
    "import tensorflow as tf\n",
    "\n",
    "tf.__version__"
   ]
  },
  {
   "cell_type": "code",
   "execution_count": 11,
   "metadata": {
    "collapsed": true,
    "deletable": true,
    "editable": true
   },
   "outputs": [],
   "source": [
    "n_steps = 14\n",
    "n_input = 2\n",
    "n_output = 1\n",
    "\n",
    "n_hidden = 20\n",
    "layers_stacked_count = 2  # Number of stacked recurrent cells, on the neural depth axis. "
   ]
  },
  {
   "cell_type": "code",
   "execution_count": 12,
   "metadata": {
    "collapsed": false,
    "deletable": true,
    "editable": true
   },
   "outputs": [],
   "source": [
    "def get_batch(batch_size):\n",
    "    x = np.random.randn(batch_size,n_steps, n_input)\n",
    "    y = np.flip(x, axis=1)\n",
    "    y = np.sum(y, axis=2)\n",
    "    y = y.reshape((batch_size, n_steps, 1))\n",
    "    \n",
    "    seq = np.empty((batch_size), dtype=np.int)\n",
    "    seq.fill(n_steps)\n",
    "    return x, y, seq\n",
    "\n",
    "x, y, seq = get_batch(100)"
   ]
  },
  {
   "cell_type": "code",
   "execution_count": 13,
   "metadata": {
    "collapsed": false,
    "deletable": true,
    "editable": true
   },
   "outputs": [],
   "source": [
    "tf.reset_default_graph()\n",
    "\n",
    "sess = tf.InteractiveSession()\n",
    "\n",
    "# Placeholders\n",
    "enc_inp = tf.placeholder(tf.float32, [None, n_steps, n_input])\n",
    "expect = tf.placeholder(tf.float32, [None, n_steps, 1])\n",
    "expect_length = tf.placeholder(tf.int32, [None])\n",
    "keep_prob = tf.placeholder(tf.float32, [])\n",
    "is_training = tf.placeholder(tf.bool, [])\n",
    "\n",
    "# Encoder\n",
    "cells = [tf.contrib.rnn.DropoutWrapper(tf.contrib.rnn.BasicLSTMCell(n_hidden), output_keep_prob=keep_prob) for i in range(layers_stacked_count)]\n",
    "cell = tf.contrib.rnn.MultiRNNCell(cells)\n",
    "encoded_outputs, encoded_states = tf.nn.dynamic_rnn(cell, enc_inp, dtype=tf.float32)\n",
    "\n",
    "# Decoder\n",
    "de_cells = [tf.contrib.rnn.DropoutWrapper(tf.contrib.rnn.BasicLSTMCell(n_hidden), output_keep_prob=keep_prob) for i in range(layers_stacked_count)]\n",
    "de_cell = tf.contrib.rnn.MultiRNNCell(de_cells)\n",
    "\n",
    "training_helper = tf.contrib.seq2seq.TrainingHelper(expect, expect_length)\n",
    "\n",
    "#------------ Customer helper\n",
    "'''\n",
    "\n",
    "def sample_fn(time, outputs, state):\n",
    "    sample_ids = math_ops.cast(math_ops.argmax(outputs, axis=-1), dtypes.int32)\n",
    "    return sample_ids\n",
    "\n",
    "s_sequence_length = ops.convert_to_tensor(sequence_length)\n",
    "\n",
    "def next_inputs(time, outputs, state, sample_id):\n",
    "    next_time = time + 1\n",
    "    finished = (next_time >= s_sequence_length)\n",
    "    all_finished = math_ops.reduce_all(finished)\n",
    "    def read_from_ta(inp):\n",
    "        return inp.read(next_time)\n",
    "    next_inputs = control_flow_ops.cond(\n",
    "        all_finished, lambda: self._zero_inputs,\n",
    "        lambda: nest.map_structure(read_from_ta, self._input_tas))\n",
    "    \n",
    "    return (finished, next_inputs, state)\n",
    "'''\n",
    "#---------------\n",
    "#inference_helper = tf.contrib.seq2seq.CustomHelper(initialize, sample_fn, next_inputs)\n",
    "\n",
    "'''\n",
    "initialize_fn: callable that returns (finished, next_inputs) for the first iteration.\n",
    "sample_fn: callable that takes (time, outputs, state) and emits tensor sample_ids.\n",
    "next_inputs_fn: callable that takes (time, outputs, state, sample_ids) and emits (finished, next_inputs, next_state).\n",
    "'''\n",
    "helper = training_helper\n",
    "    \n",
    "decoder = tf.contrib.seq2seq.BasicDecoder(cell=de_cell, helper=helper, initial_state=encoded_states)\n",
    "final_outputs, final_state, final_sequence_lengths = tf.contrib.seq2seq.dynamic_decode(decoder)\n",
    "\n",
    "decoder_logits = final_outputs.rnn_output\n",
    "\n",
    "h = tf.contrib.layers.fully_connected(decoder_logits, n_output)\n",
    "\n",
    "diff = tf.squared_difference(h, expect)\n",
    "batch_loss = tf.reduce_sum(diff, axis=1)\n",
    "loss = tf.reduce_mean(batch_loss)\n",
    "\n",
    "optimiser = tf.train.AdamOptimizer(1e-3)\n",
    "training_op = optimiser.minimize(loss)\n",
    "\n",
    "init_op = tf.global_variables_initializer()"
   ]
  },
  {
   "cell_type": "code",
   "execution_count": 16,
   "metadata": {
    "collapsed": false,
    "deletable": true,
    "editable": true
   },
   "outputs": [
    {
     "name": "stdout",
     "output_type": "stream",
     "text": [
      "13.0014\n",
      "14.8006\n",
      "12.5944\n",
      "15.364\n",
      "14.4224\n",
      "14.2207\n",
      "13.0599\n",
      "14.4875\n",
      "13.6046\n",
      "13.6742\n"
     ]
    }
   ],
   "source": [
    "sess = tf.InteractiveSession()\n",
    "\n",
    "init_op.run()\n",
    "\n",
    "for e in range(10):\n",
    "    for i in range(200):\n",
    "        batch_x, batch_y ,seq = get_batch(100)\n",
    "        training_op.run(feed_dict={enc_inp:batch_x, expect: batch_y, expect_length:seq, keep_prob:0.5, is_training:True})\n",
    "        \n",
    "    print(loss.eval(feed_dict={enc_inp:batch_x, expect: batch_y, expect_length:seq, keep_prob:1}))"
   ]
  },
  {
   "cell_type": "code",
   "execution_count": 17,
   "metadata": {
    "collapsed": false,
    "deletable": true,
    "editable": true
   },
   "outputs": [
    {
     "name": "stdout",
     "output_type": "stream",
     "text": [
      "[[ 1.35913375]\n",
      " [-4.06260373]\n",
      " [ 0.36209679]\n",
      " [-0.52952649]\n",
      " [ 3.39467178]\n",
      " [-0.75505414]\n",
      " [-0.14401227]\n",
      " [ 1.00390028]\n",
      " [-0.26527715]\n",
      " [-1.64101092]\n",
      " [ 0.08026103]\n",
      " [-2.07280894]\n",
      " [-2.88347371]\n",
      " [ 1.48226923]]\n",
      "---------\n",
      "[[ 0.00805875]\n",
      " [ 4.06260373]\n",
      " [-0.04561412]\n",
      " [ 0.52952649]\n",
      " [-0.37925302]\n",
      " [ 0.75505414]\n",
      " [ 0.14401227]\n",
      " [ 0.01200832]\n",
      " [ 0.26527715]\n",
      " [ 1.64101092]\n",
      " [-0.08026103]\n",
      " [ 2.07280894]\n",
      " [ 2.88347371]\n",
      " [ 0.0476666 ]]\n"
     ]
    }
   ],
   "source": [
    "test_x, test_y, seq = get_batch(2)\n",
    "print(test_y[0])\n",
    "print('---------')\n",
    "feed_dict = {enc_inp:test_x, expect:test_y, expect_length:seq, keep_prob:1}\n",
    "pred = h.eval(feed_dict=feed_dict)\n",
    "\n",
    "print(pred[0] - test_y[0])\n",
    "\n"
   ]
  },
  {
   "cell_type": "code",
   "execution_count": null,
   "metadata": {
    "collapsed": true
   },
   "outputs": [],
   "source": [
    "tf.reset_default_graph()\n",
    "\n",
    "# Placeholders\n",
    "enc_inp = tf.placeholder(tf.float32, [None, n_steps, n_input])\n",
    "expect = tf.placeholder(tf.float32, [None, n_steps, 1])\n",
    "expect_length = tf.placeholder(tf.int32, [None])\n",
    "keep_prob = tf.placeholder(tf.float32, [])\n",
    "\n",
    "# Encoder\n",
    "cells = [tf.contrib.rnn.DropoutWrapper(tf.contrib.rnn.BasicLSTMCell(n_hidden), output_keep_prob=keep_prob) for i in range(layers_stacked_count)]\n",
    "cell = tf.contrib.rnn.MultiRNNCell(cells)\n",
    "encoded_outputs, encoded_states = tf.nn.dynamic_rnn(cell, enc_inp, dtype=tf.float32)\n",
    "\n",
    "# Decoder\n",
    "de_cells = [tf.contrib.rnn.DropoutWrapper(tf.contrib.rnn.BasicLSTMCell(n_hidden), output_keep_prob=keep_prob) for i in range(layers_stacked_count)]\n",
    "de_cell = tf.contrib.rnn.MultiRNNCell(de_cells)\n",
    "\n",
    "training_helper = tf.contrib.seq2seq.TrainingHelper(expect, expect_length)\n",
    "\n",
    "decoder = tf.contrib.seq2seq.BasicDecoder(cell=de_cell, helper=training_helper, initial_state=encoded_states)\n",
    "final_outputs, final_state, final_sequence_lengths = tf.contrib.seq2seq.dynamic_decode(decoder)\n",
    "\n",
    "decoder_logits = final_outputs.rnn_output\n",
    "\n",
    "h = tf.contrib.layers.fully_connected(decoder_logits, n_output)\n",
    "\n",
    "diff = tf.squared_difference(h, expect)\n",
    "batch_loss = tf.reduce_sum(diff, axis=1)\n",
    "loss = tf.reduce_mean(batch_loss)\n",
    "\n",
    "optimiser = tf.train.AdamOptimizer(1e-3)\n",
    "training_op = optimiser.minimize(loss)\n",
    "\n",
    "init_op = tf.global_variables_initializer()"
   ]
  }
 ],
 "metadata": {
  "kernelspec": {
   "display_name": "Python 3",
   "language": "python",
   "name": "python3"
  },
  "language_info": {
   "codemirror_mode": {
    "name": "ipython",
    "version": 3
   },
   "file_extension": ".py",
   "mimetype": "text/x-python",
   "name": "python",
   "nbconvert_exporter": "python",
   "pygments_lexer": "ipython3",
   "version": "3.5.2"
  }
 },
 "nbformat": 4,
 "nbformat_minor": 2
}
