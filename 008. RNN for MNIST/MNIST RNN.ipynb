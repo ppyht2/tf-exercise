{
 "cells": [
  {
   "cell_type": "code",
   "execution_count": 14,
   "metadata": {
    "collapsed": false,
    "deletable": true,
    "editable": true
   },
   "outputs": [],
   "source": [
    "import tensorflow as tf \n",
    "import matplotlib.pyplot as plt \n",
    "import numpy as np\n",
    "import tensorflow.contrib.rnn as rnn\n",
    "\n",
    "% matplotlib inline\n",
    "plt.style.use('ggplot')\n"
   ]
  },
  {
   "cell_type": "code",
   "execution_count": 6,
   "metadata": {
    "collapsed": false,
    "deletable": true,
    "editable": true
   },
   "outputs": [
    {
     "name": "stdout",
     "output_type": "stream",
     "text": [
      "Extracting MNIST_data/train-images-idx3-ubyte.gz\n",
      "Extracting MNIST_data/train-labels-idx1-ubyte.gz\n",
      "Extracting MNIST_data/t10k-images-idx3-ubyte.gz\n",
      "Extracting MNIST_data/t10k-labels-idx1-ubyte.gz\n"
     ]
    }
   ],
   "source": [
    "from tensorflow.examples.tutorials.mnist import input_data\n",
    "mnist = input_data.read_data_sets(\"MNIST_data\", one_hot = True)"
   ]
  },
  {
   "cell_type": "code",
   "execution_count": 32,
   "metadata": {
    "collapsed": true,
    "deletable": true,
    "editable": true
   },
   "outputs": [],
   "source": [
    "learning_rate = 1e-4\n",
    "n_epoch = 10\n",
    "epoch_size = 100\n",
    "n_iter = n_epoch * epoch_size\n",
    "\n",
    "batch_size = 100\n",
    "\n",
    "n_input = 28\n",
    "n_output = 10\n",
    "n_steps = 28\n",
    "n_hidden = 128"
   ]
  },
  {
   "cell_type": "code",
   "execution_count": 33,
   "metadata": {
    "collapsed": false
   },
   "outputs": [],
   "source": [
    "tf.reset_default_graph()\n",
    "\n",
    "x = tf.placeholder(tf.float32, [None, n_steps, n_input])\n",
    "y = tf.placeholder(tf.float32, [None, n_output])\n",
    "\n",
    "W = tf.Variable(tf.truncated_normal([n_hidden, n_output]),dtype=tf.float32)\n",
    "b = tf.Variable(tf.truncated_normal([n_output]), dtype=tf.float32)\n",
    "\n",
    "x_unstack = tf.unstack(x, n_steps, 1)\n",
    "\n",
    "\n",
    "lstm_cell = rnn.BasicLSTMCell(n_hidden, forget_bias=1.0)\n",
    "\n",
    "outputs, states = rnn.static_rnn(lstm_cell, x_unstack, dtype=tf.float32)\n",
    "\n",
    "\n",
    "h = tf.matmul(outputs[-1], W) + b\n",
    "\n",
    "cost =tf.reduce_mean(tf.nn.softmax_cross_entropy_with_logits(labels=y, logits=h))\n",
    "training_steps = tf.train.AdamOptimizer(learning_rate).minimize(cost)\n",
    "\n",
    "correct_pred = tf.equal(tf.argmax(y, 1), tf.argmax(h,1))\n",
    "accuracy = tf.reduce_mean(tf.cast(correct_pred, tf.float32))"
   ]
  },
  {
   "cell_type": "code",
   "execution_count": 34,
   "metadata": {
    "collapsed": false
   },
   "outputs": [
    {
     "name": "stdout",
     "output_type": "stream",
     "text": [
      "Epoch: 0 Batch Accuracy: 6.00%\n",
      "Epoch: 1 Batch Accuracy: 52.00%\n",
      "Epoch: 2 Batch Accuracy: 64.00%\n",
      "Epoch: 3 Batch Accuracy: 74.00%\n",
      "Epoch: 4 Batch Accuracy: 71.00%\n",
      "Epoch: 5 Batch Accuracy: 79.00%\n",
      "Epoch: 6 Batch Accuracy: 76.00%\n",
      "Epoch: 7 Batch Accuracy: 89.00%\n",
      "Epoch: 8 Batch Accuracy: 84.00%\n",
      "Epoch: 9 Batch Accuracy: 93.00%\n",
      "Epoch: 10 Batch Accuracy: 93.00%\n",
      "CPU times: user 16.9 s, sys: 784 ms, total: 17.7 s\n",
      "Wall time: 15.1 s\n"
     ]
    }
   ],
   "source": [
    "%%time\n",
    "sess = tf.InteractiveSession()\n",
    "tf.global_variables_initializer().run()\n",
    "\n",
    "\n",
    "for iter in range(n_iter+1):\n",
    "    xs, ys = mnist.train.next_batch(batch_size)\n",
    "    xs = xs.reshape((batch_size, n_steps, n_input))\n",
    "    sess.run(training_steps, feed_dict={x:xs, y:ys})\n",
    "    \n",
    "    if iter % epoch_size == 0:\n",
    "        print('Epoch: {} Batch Accuracy: {:4.2f}%'\n",
    "              .format(int(iter/epoch_size),\n",
    "               100*accuracy.eval(feed_dict={x:xs, y:ys})))\n"
   ]
  },
  {
   "cell_type": "code",
   "execution_count": 42,
   "metadata": {
    "collapsed": false
   },
   "outputs": [
    {
     "name": "stdout",
     "output_type": "stream",
     "text": [
      "Test Accuracy: 0.91%\n"
     ]
    }
   ],
   "source": [
    "test_x = mnist.test.images\n",
    "test_y = mnist.test.labels\n",
    "\n",
    "test_x = test_x.reshape((len(test_y), n_steps, n_input))\n",
    "a = accuracy.eval(feed_dict={x:test_x, y:test_y})\n",
    "\n",
    "print('Test Accuracy: {:4.2f}%' .format(a))"
   ]
  },
  {
   "cell_type": "code",
   "execution_count": null,
   "metadata": {
    "collapsed": true
   },
   "outputs": [],
   "source": []
  }
 ],
 "metadata": {
  "kernelspec": {
   "display_name": "Python 3",
   "language": "python",
   "name": "python3"
  },
  "language_info": {
   "codemirror_mode": {
    "name": "ipython",
    "version": 3
   },
   "file_extension": ".py",
   "mimetype": "text/x-python",
   "name": "python",
   "nbconvert_exporter": "python",
   "pygments_lexer": "ipython3",
   "version": "3.5.2"
  }
 },
 "nbformat": 4,
 "nbformat_minor": 2
}
