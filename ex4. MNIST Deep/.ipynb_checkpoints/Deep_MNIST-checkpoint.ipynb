{
 "cells": [
  {
   "cell_type": "code",
   "execution_count": 2,
   "metadata": {
    "collapsed": true,
    "deletable": true,
    "editable": true
   },
   "outputs": [],
   "source": [
    "import tensorflow as tf \n",
    "import numpy as np \n",
    "import matplotlib.pyplot as plt\n",
    "\n",
    "% matplotlib inline\n",
    "plt.style.use('ggplot')"
   ]
  },
  {
   "cell_type": "markdown",
   "metadata": {
    "deletable": true,
    "editable": true
   },
   "source": [
    "# Loading MNIST Data"
   ]
  },
  {
   "cell_type": "code",
   "execution_count": 3,
   "metadata": {
    "collapsed": false,
    "deletable": true,
    "editable": true
   },
   "outputs": [
    {
     "name": "stdout",
     "output_type": "stream",
     "text": [
      "Extracting MNISR_data/train-images-idx3-ubyte.gz\n",
      "Extracting MNISR_data/train-labels-idx1-ubyte.gz\n",
      "Extracting MNISR_data/t10k-images-idx3-ubyte.gz\n",
      "Extracting MNISR_data/t10k-labels-idx1-ubyte.gz\n"
     ]
    }
   ],
   "source": [
    "from tensorflow.examples.tutorials.mnist import input_data\n",
    "mnist = input_data.read_data_sets(\"MNISR_data\", one_hot = True)"
   ]
  },
  {
   "cell_type": "code",
   "execution_count": 4,
   "metadata": {
    "collapsed": false,
    "deletable": true,
    "editable": true
   },
   "outputs": [
    {
     "name": "stdout",
     "output_type": "stream",
     "text": [
      "Train Set Size: 55000\n",
      "Validation Set Size: 5000\n",
      "Test Set Size: 10000\n"
     ]
    }
   ],
   "source": [
    "print('Train Set Size: {}' .format(len(mnist.train.images)))\n",
    "print('Validation Set Size: {}' .format(len(mnist.validation.images)))\n",
    "print('Test Set Size: {}' .format(len(mnist.test.images)))"
   ]
  },
  {
   "cell_type": "markdown",
   "metadata": {
    "deletable": true,
    "editable": true
   },
   "source": [
    "# Print an Random Example"
   ]
  },
  {
   "cell_type": "code",
   "execution_count": 5,
   "metadata": {
    "collapsed": false,
    "deletable": true,
    "editable": true
   },
   "outputs": [
    {
     "data": {
      "image/png": "[encoded data removed]",
      "text/plain": [
       "<matplotlib.figure.Figure at 0x7f50e04d1a20>"
      ]
     },
     "metadata": {},
     "output_type": "display_data"
    }
   ],
   "source": [
    "randi = np.random.randint(len(mnist.train.images))\n",
    "plt.imshow(mnist.train.images[randi].reshape(28,28))\n",
    "for i in range(0,9):\n",
    "    if mnist.train.labels[randi][i]==1:\n",
    "        print('Label: {}' .format(i))"
   ]
  },
  {
   "cell_type": "markdown",
   "metadata": {},
   "source": [
    "# Weight and Bias Initalisation "
   ]
  },
  {
   "cell_type": "code",
   "execution_count": 6,
   "metadata": {
    "collapsed": true
   },
   "outputs": [],
   "source": [
    "def weight_init(shape):\n",
    "    initial= tf.truncated_normal(shape, stddev=0.01)\n",
    "    return tf.Variable(initial)\n",
    "\n",
    "def bias_init(shape):\n",
    "    initial = tf.constant(0.1, shape=shape)\n",
    "    return tf.Variable(initial)"
   ]
  },
  {
   "cell_type": "markdown",
   "metadata": {},
   "source": [
    "# Convolution and Pooling\n"
   ]
  },
  {
   "cell_type": "code",
   "execution_count": 7,
   "metadata": {
    "collapsed": false
   },
   "outputs": [],
   "source": [
    "def conv2d(x, W):\n",
    "    return tf.nn.conv2d(x,W, strides=[1,1,1,1], padding='SAME')\n",
    "\n",
    "def max_pooling_2x2(x):\n",
    "    return tf.nn.max_pool(x, ksize=[1,2,2,1], strides=[1,2,2,1], padding='SAME')"
   ]
  },
  {
   "cell_type": "markdown",
   "metadata": {},
   "source": [
    "# Deep Network"
   ]
  },
  {
   "cell_type": "code",
   "execution_count": 8,
   "metadata": {
    "collapsed": true
   },
   "outputs": [],
   "source": [
    "# Conv > pool > conv > pool > dense > dropout > out \n",
    "\n",
    "def deepnn(x): \n",
    "    '''\n",
    "    x: input tensor with dimensions (n, 784)\n",
    "    \n",
    "    returns (y, keep_prob)\n",
    "    y: tensor of shape(n, 10)\n",
    "    keep_prob: scalar placeholder for the probability of dropout\n",
    "    '''\n",
    "    \n",
    "    # Reshape for convolution\n",
    "    x_image = tf.reshape(x, [-1, 28, 28, 1])\n",
    "    \n",
    "    # First Convolutional Layer\n",
    "    W_conv1 = weight_init([5,5,1,32])\n",
    "    b_conv1 = bias_init([32])\n",
    "    h_conv1 = tf.nn.relu(conv2d(x_image, W_conv1) + b_conv1)\n",
    "    \n",
    "    # First Pooling Layer \n",
    "    h_pool1 = max_pooling_2x2(h_conv1)\n",
    "    \n",
    "    # Second Convolutional Layer\n",
    "    W_conv2 = weight_init([5,5,32,64])\n",
    "    b_conv2 = bias_init([64])\n",
    "    h_conv2 = tf.nn.relu(conv2d(h_pool1, W_conv2)+b_conv2)\n",
    "    \n",
    "    # Second Pooling Layer \n",
    "    h_pool2 = max_pooling_2x2(h_conv2)\n",
    "    \n",
    "    \n",
    "    # First Fully Connected Layer - after 2 round of downsampling, our 28x28 image\n",
    "    # is down to 7x7x64 feature maps -- maps this to 1024 features.\n",
    "    W_fc1 = weight_init([7*7*64, 1024])\n",
    "    b_fc1 = bias_init([1024])\n",
    "    h_pool2_flat = tf.reshape(h_pool2, [-1, 7*7*64])\n",
    "    h_fc1 = tf.nn.relu(tf.matmul(h_pool2_flat, W_fc1) + b_fc1)\n",
    "    \n",
    "    # Dropout \n",
    "    keep_prob = tf.placeholder(tf.float32)\n",
    "    h_fc1_drop = tf.nn.dropout(h_fc1, keep_prob)\n",
    "    \n",
    "    \n",
    "    # Second FC, Output \n",
    "    W_fc2 = weight_init([1024, 10])\n",
    "    b_fc2 = bias_init([10])\n",
    "    \n",
    "    y_conv = tf.matmul(h_fc1_drop, W_fc2) +  b_fc2\n",
    "    return y_conv, keep_prob"
   ]
  },
  {
   "cell_type": "markdown",
   "metadata": {
    "deletable": true,
    "editable": true
   },
   "source": [
    "# Building the Model\n"
   ]
  },
  {
   "cell_type": "code",
   "execution_count": null,
   "metadata": {
    "collapsed": false,
    "deletable": true,
    "editable": true
   },
   "outputs": [],
   "source": [
    "image_shape = 28\n",
    "input_size = image_shape * image_shape\n",
    "output_size =10\n",
    "\n",
    "learning_rate = 0.001\n",
    "batch_size = 150\n",
    "\n",
    "epoch = 20\n",
    "epoch_size = 100\n",
    "n_steps = epoch * epoch_size \n",
    "\n",
    "# Create / Reset the graph\n",
    "tf.reset_default_graph()\n",
    "\n",
    "# Input Images and Target Output Classes\n",
    "x = tf.placeholder(tf.float32, shape=[None, input_size])\n",
    "y_ = tf.placeholder(tf.float32, shape=[None, output_size])\n",
    "\n",
    "y_conv, keep_prob = deepnn(x)\n",
    "\n",
    "# Note: tf.nn.softmax_cross_entropy_with_logits internally applies the softmax on the model's unnormalised model prediction and sums across all calsses \n",
    "cross_entropy = tf.reduce_mean(tf.nn.softmax_cross_entropy_with_logits(labels=y_, logits=y_conv))\n",
    "\n",
    "# Train \n",
    "train_step = tf.train.AdamOptimizer(learning_rate).minimize(cross_entropy)\n",
    "\n",
    "# Measurements \n",
    "correct_prediction = tf.equal(tf.argmax(y_conv,1), tf.arg_max(y_, 1))\n",
    "accuracy = tf.reduce_mean(tf.cast(correct_prediction, tf.float32))"
   ]
  },
  {
   "cell_type": "markdown",
   "metadata": {
    "deletable": true,
    "editable": true
   },
   "source": [
    "# Training Session\n"
   ]
  },
  {
   "cell_type": "code",
   "execution_count": null,
   "metadata": {
    "collapsed": false,
    "deletable": true,
    "editable": true
   },
   "outputs": [],
   "source": [
    "%%time\n",
    "\n",
    "sess = tf.InteractiveSession()\n",
    "tf.global_variables_initializer().run()\n",
    "\n",
    "for step in range(n_steps+1):\n",
    "    # Training\n",
    "    batch = mnist.train.next_batch(batch_size)\n",
    "    train_step.run(feed_dict={x: batch[0], y_: batch[1], keep_prob: 0.5})\n",
    "    \n",
    "    # Print outs\n",
    "    if step%epoch_size==0:\n",
    "             print(\"Epoch: {} Accuracy: {:4.2f} \" .format(int(step/epoch_size),\n",
    "                accuracy.eval(feed_dict={x:batch[0], y_:batch[1], keep_prob: 1})))"
   ]
  },
  {
   "cell_type": "markdown",
   "metadata": {
    "deletable": true,
    "editable": true
   },
   "source": [
    "# Predication Accuracy"
   ]
  },
  {
   "cell_type": "code",
   "execution_count": null,
   "metadata": {
    "collapsed": false,
    "deletable": true,
    "editable": true
   },
   "outputs": [],
   "source": [
    "print('Test Accuracy: {:4.2f}%' .format(100*accuracy.eval(feed_dict={x:mnist.test.images, y_:mnist.test.labels})))"
   ]
  },
  {
   "cell_type": "code",
   "execution_count": null,
   "metadata": {
    "collapsed": true,
    "deletable": true,
    "editable": true
   },
   "outputs": [],
   "source": []
  }
 ],
 "metadata": {
  "kernelspec": {
   "display_name": "Python 3",
   "language": "python",
   "name": "python3"
  },
  "language_info": {
   "codemirror_mode": {
    "name": "ipython",
    "version": 3
   },
   "file_extension": ".py",
   "mimetype": "text/x-python",
   "name": "python",
   "nbconvert_exporter": "python",
   "pygments_lexer": "ipython3",
   "version": "3.5.2"
  }
 },
 "nbformat": 4,
 "nbformat_minor": 2
}
